{
 "cells": [
  {
   "cell_type": "code",
   "execution_count": 1,
   "metadata": {},
   "outputs": [],
   "source": [
    "import pandas as pd\n",
    "import datetime\n",
    "import numpy as np\n",
    "from sklearn.preprocessing import StandardScaler\n",
    "import matplotlib.pyplot as plt"
   ]
  },
  {
   "cell_type": "code",
   "execution_count": 73,
   "metadata": {},
   "outputs": [
    {
     "name": "stderr",
     "output_type": "stream",
     "text": [
      "C:\\Users\\Neo\\AppData\\Local\\Temp\\ipykernel_21552\\2211435815.py:13: FutureWarning: The default value of regex will change from True to False in a future version.\n",
      "  df['price'] = df['price'].str.replace(r'[$,]',\"\").astype(float) #previosuly represented as a string\n"
     ]
    }
   ],
   "source": [
    "df = pd.read_csv(r'../../data/2022-09-15/listings.csv')\n",
    "\n",
    "def data_cleanup(df):\n",
    "\n",
    "    df.dropna(how='all', axis=1, inplace=True) #drop empty cols\n",
    "\n",
    "    number_looking_strings = ['id', 'scrape_id', 'host_id']\n",
    "    for col in number_looking_strings:\n",
    "        df[col] = df[col].astype(\"string\")\n",
    "\n",
    "    df['host_response_rate'] = df['host_response_rate'].str.replace(\"%\",\"\").astype(float)/100 #previously a percentage as a string\n",
    "    df['host_acceptance_rate'] = df['host_acceptance_rate'].str.replace(\"%\",\"\").astype(float)/100 #previously a percentage as a string\n",
    "    df['price'] = df['price'].str.replace(r'[$,]',\"\").astype(float) #previosuly represented as a string\n",
    "\n",
    "    date_cols = ['last_scraped', 'host_since', 'calendar_last_scraped', 'first_review', 'last_review']\n",
    "    for col in date_cols:\n",
    "        df[col] = pd.to_datetime(df[col], format=r'%Y-%m-%d')\n",
    "\n",
    "    for col in df.columns:\n",
    "        if df[col][0] == \"f\" or df[col][0] == \"t\": #if first record is \"t\" or \"f\" we're going to convert to bool - still should spot check after just incase first record of bool is null\n",
    "            df[col] = df[col].str.replace(\"f\", \"0\")\n",
    "            df[col] = df[col].str.replace(\"t\", \"1\")\n",
    "            try: ## int can't hold nulls so if the conversion fails due to a value error, convert to float instead\n",
    "                df[col] = df[col].astype(int)\n",
    "            except ValueError:\n",
    "                df[col] = df[col].astype(float)\n",
    "\n",
    "\n",
    "    remaining_string_cols = df.select_dtypes(include=[\"object\"]).columns #all remaining object columns are strings so I'm explicitly setting them to be\n",
    "    for col in remaining_string_cols:\n",
    "        df[col] = df[col].astype('string')\n",
    "\n",
    "    list_string_cols = ['host_verifications', 'amenities'] #these 2 columns are string lists so I'm converting them back to object just so I remember to handle them differently\n",
    "    for col in list_string_cols:\n",
    "        df[col] = df[col].astype('object')\n",
    "\n",
    "    return df\n",
    "\n",
    "df = data_cleanup(df)"
   ]
  },
  {
   "cell_type": "code",
   "execution_count": 59,
   "metadata": {},
   "outputs": [
    {
     "name": "stdout",
     "output_type": "stream",
     "text": [
      "<class 'pandas.core.frame.DataFrame'>\n",
      "RangeIndex: 7733 entries, 0 to 7732\n",
      "Data columns (total 71 columns):\n",
      " #   Column                                        Non-Null Count  Dtype         \n",
      "---  ------                                        --------------  -----         \n",
      " 0   id                                            7733 non-null   string        \n",
      " 1   listing_url                                   7733 non-null   string        \n",
      " 2   scrape_id                                     7733 non-null   string        \n",
      " 3   last_scraped                                  7733 non-null   datetime64[ns]\n",
      " 4   source                                        7733 non-null   string        \n",
      " 5   name                                          7733 non-null   string        \n",
      " 6   description                                   7691 non-null   string        \n",
      " 7   neighborhood_overview                         5502 non-null   string        \n",
      " 8   picture_url                                   7733 non-null   string        \n",
      " 9   host_id                                       7733 non-null   string        \n",
      " 10  host_url                                      7733 non-null   string        \n",
      " 11  host_name                                     7653 non-null   string        \n",
      " 12  host_since                                    7653 non-null   datetime64[ns]\n",
      " 13  host_location                                 6556 non-null   string        \n",
      " 14  host_about                                    5383 non-null   string        \n",
      " 15  host_response_time                            6889 non-null   string        \n",
      " 16  host_response_rate                            6889 non-null   float64       \n",
      " 17  host_acceptance_rate                          7126 non-null   float64       \n",
      " 18  host_is_superhost                             7733 non-null   bool          \n",
      " 19  host_thumbnail_url                            7653 non-null   string        \n",
      " 20  host_picture_url                              7653 non-null   string        \n",
      " 21  host_neighbourhood                            5321 non-null   string        \n",
      " 22  host_listings_count                           7653 non-null   float64       \n",
      " 23  host_total_listings_count                     7653 non-null   float64       \n",
      " 24  host_verifications                            7733 non-null   object        \n",
      " 25  host_has_profile_pic                          7733 non-null   bool          \n",
      " 26  host_identity_verified                        7733 non-null   bool          \n",
      " 27  neighbourhood                                 5502 non-null   string        \n",
      " 28  neighbourhood_cleansed                        7733 non-null   string        \n",
      " 29  latitude                                      7733 non-null   float64       \n",
      " 30  longitude                                     7733 non-null   float64       \n",
      " 31  property_type                                 7733 non-null   string        \n",
      " 32  room_type                                     7733 non-null   string        \n",
      " 33  accommodates                                  7733 non-null   int64         \n",
      " 34  bathrooms_text                                7730 non-null   string        \n",
      " 35  bedrooms                                      7404 non-null   float64       \n",
      " 36  beds                                          7696 non-null   float64       \n",
      " 37  amenities                                     7733 non-null   object        \n",
      " 38  price                                         7733 non-null   float64       \n",
      " 39  minimum_nights                                7733 non-null   int64         \n",
      " 40  maximum_nights                                7733 non-null   int64         \n",
      " 41  minimum_minimum_nights                        7732 non-null   float64       \n",
      " 42  maximum_minimum_nights                        7732 non-null   float64       \n",
      " 43  minimum_maximum_nights                        7732 non-null   float64       \n",
      " 44  maximum_maximum_nights                        7732 non-null   float64       \n",
      " 45  minimum_nights_avg_ntm                        7732 non-null   float64       \n",
      " 46  maximum_nights_avg_ntm                        7732 non-null   float64       \n",
      " 47  has_availability                              7733 non-null   bool          \n",
      " 48  availability_30                               7733 non-null   int64         \n",
      " 49  availability_60                               7733 non-null   int64         \n",
      " 50  availability_90                               7733 non-null   int64         \n",
      " 51  availability_365                              7733 non-null   int64         \n",
      " 52  calendar_last_scraped                         7733 non-null   datetime64[ns]\n",
      " 53  number_of_reviews                             7733 non-null   int64         \n",
      " 54  number_of_reviews_ltm                         7733 non-null   int64         \n",
      " 55  number_of_reviews_l30d                        7733 non-null   int64         \n",
      " 56  first_review                                  6824 non-null   datetime64[ns]\n",
      " 57  last_review                                   6824 non-null   datetime64[ns]\n",
      " 58  review_scores_rating                          6824 non-null   float64       \n",
      " 59  review_scores_accuracy                        6813 non-null   float64       \n",
      " 60  review_scores_cleanliness                     6813 non-null   float64       \n",
      " 61  review_scores_checkin                         6812 non-null   float64       \n",
      " 62  review_scores_communication                   6813 non-null   float64       \n",
      " 63  review_scores_location                        6812 non-null   float64       \n",
      " 64  review_scores_value                           6812 non-null   float64       \n",
      " 65  instant_bookable                              7733 non-null   bool          \n",
      " 66  calculated_host_listings_count                7733 non-null   int64         \n",
      " 67  calculated_host_listings_count_entire_homes   7733 non-null   int64         \n",
      " 68  calculated_host_listings_count_private_rooms  7733 non-null   int64         \n",
      " 69  calculated_host_listings_count_shared_rooms   7733 non-null   int64         \n",
      " 70  reviews_per_month                             6824 non-null   float64       \n",
      "dtypes: bool(5), datetime64[ns](5), float64(23), int64(14), object(2), string(22)\n",
      "memory usage: 3.9+ MB\n"
     ]
    }
   ],
   "source": [
    "df.info(verbose=True)"
   ]
  },
  {
   "cell_type": "code",
   "execution_count": 74,
   "metadata": {},
   "outputs": [
    {
     "data": {
      "text/plain": [
       "1.0    4055\n",
       "0.0    3677\n",
       "Name: host_is_superhost, dtype: int64"
      ]
     },
     "execution_count": 74,
     "metadata": {},
     "output_type": "execute_result"
    }
   ],
   "source": [
    "df['host_is_superhost'].value_counts()"
   ]
  },
  {
   "cell_type": "code",
   "execution_count": 75,
   "metadata": {},
   "outputs": [],
   "source": [
    "ncols = 6\n",
    "num_bins = 20\n",
    "target_col_name = \"host_is_superhost\"\n",
    "horizontal_spacing = 0.2\n",
    "\n",
    "# create a figure with a grid of subplots\n",
    "fig, axs = plt.subplots(nrows=(len(df.columns)//ncols)+1, ncols=ncols)\n",
    "fig.set_figheight(5*(len(df.columns)//ncols)+1)\n",
    "fig.set_figwidth(5 * ncols)\n",
    "fig.subplots_adjust(hspace=horizontal_spacing)\n",
    "\n",
    "\n",
    "# loop through each column in your dataframe\n",
    "for i, col in enumerate(df.columns):\n",
    "    \n",
    "    fig_row_num = i // ncols\n",
    "    fig_col_num = i % ncols\n",
    "\n",
    "    data1 = df[df[target_col_name] == 1.0][col]\n",
    "    data2 = df[df[target_col_name] == 0.0][col]\n",
    "\n",
    "    # check if the column is of type Categorical\n",
    "    # if df[col].dtype == \"string\":\n",
    "    #     axs[fig_row_num][fig_col_num].set_title(col + \" (Category)\")\n",
    "    #     data1 = df[df[target_col_name] == 1][col].fillna(\"NULL\")\n",
    "    #     data2 = df[df[target_col_name] == 0][col].fillna(\"NULL\")\n",
    "    # else:\n",
    "    #     if df[col].dtype == \"datetime64[ns]\":\n",
    "    #         axs[fig_row_num][fig_col_num].set_title(col + \" (Date)\")\n",
    "    #         data1 = df[df[target_col_name] == 1][col].fillna(-2)\n",
    "    #         data2 = df[df[target_col_name] == 0][col].fillna(-2)\n",
    "    #     else:\n",
    "    #         axs[fig_row_num][fig_col_num].set_title(col + \" (Numeric)\")\n",
    "    #         data1 = df[df[target_col_name] == 1][col].fillna(-2)\n",
    "    #         data2 = df[df[target_col_name] == 0][col].fillna(-2)\n",
    "\n",
    "    # plot the data\n",
    "    axs[fig_row_num][fig_col_num].set_title(col)\n",
    "    data1.hist(bins=num_bins, alpha=0.5, color=\"blue\", ax=axs[fig_row_num][fig_col_num])\n",
    "    data2.hist(bins=num_bins, alpha=0.5, color=\"red\", ax=axs[fig_row_num][fig_col_num])\n",
    "\n",
    "# show the plots\n",
    "plt.show()\n"
   ]
  }
 ],
 "metadata": {
  "kernelspec": {
   "display_name": "Python 3.8.10 64-bit",
   "language": "python",
   "name": "python3"
  },
  "language_info": {
   "codemirror_mode": {
    "name": "ipython",
    "version": 3
   },
   "file_extension": ".py",
   "mimetype": "text/x-python",
   "name": "python",
   "nbconvert_exporter": "python",
   "pygments_lexer": "ipython3",
   "version": "3.8.10"
  },
  "orig_nbformat": 4,
  "vscode": {
   "interpreter": {
    "hash": "e79cebfffb2e3a4b7d2d2fd53b48f0eab2f20a6a535e26e1d02c2764acd76f0c"
   }
  }
 },
 "nbformat": 4,
 "nbformat_minor": 2
}
