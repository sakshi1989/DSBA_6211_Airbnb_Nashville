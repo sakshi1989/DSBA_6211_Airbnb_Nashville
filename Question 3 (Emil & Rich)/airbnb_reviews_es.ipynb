{
 "cells": [
  {
   "cell_type": "code",
   "execution_count": 42,
   "metadata": {},
   "outputs": [],
   "source": [
    "import pandas as pd\n",
    "import numpy as np\n",
    "import matplotlib.pyplot as plt\n",
    "\n",
    "from datetime import timedelta"
   ]
  },
  {
   "cell_type": "code",
   "execution_count": 43,
   "metadata": {},
   "outputs": [],
   "source": [
    "df_reviews = pd.read_csv('C:/Users/Immig/Documents/DSBA-6211/Project_Airbnb/data/2022-09-15/reviews.csv')"
   ]
  },
  {
   "cell_type": "code",
   "execution_count": null,
   "metadata": {},
   "outputs": [],
   "source": [
    "df_reviews.head()"
   ]
  },
  {
   "cell_type": "code",
   "execution_count": 5,
   "metadata": {},
   "outputs": [
    {
     "data": {
      "text/plain": [
       "listing_id                int64\n",
       "id                        int64\n",
       "date             datetime64[ns]\n",
       "reviewer_id               int64\n",
       "reviewer_name            object\n",
       "comments                 object\n",
       "dtype: object"
      ]
     },
     "execution_count": 5,
     "metadata": {},
     "output_type": "execute_result"
    }
   ],
   "source": [
    "df_reviews['date'] = pd.to_datetime(df_reviews['date'])\n",
    "df_reviews.dtypes"
   ]
  },
  {
   "cell_type": "code",
   "execution_count": 6,
   "metadata": {},
   "outputs": [],
   "source": [
    "df_reviews_agg = df_reviews.groupby('listing_id', as_index=False).agg({'date': ['min', 'max', 'count'], 'reviewer_id': 'nunique'})\n",
    "df_reviews_agg.columns = df_reviews_agg.columns.droplevel(0)\n",
    "df_reviews_agg = df_reviews_agg.rename({'':'listing_id'}, axis='columns')"
   ]
  },
  {
   "cell_type": "code",
   "execution_count": 7,
   "metadata": {},
   "outputs": [],
   "source": [
    "# Approximate time the listing has been active based on the first and last review\n",
    "df_reviews_agg['active_days'] = (df_reviews_agg['max'] - df_reviews_agg['min']).dt.days"
   ]
  },
  {
   "cell_type": "code",
   "execution_count": 8,
   "metadata": {},
   "outputs": [],
   "source": [
    "# keep only listing_ids where the number of active days is more than 90 according to the reviews\n",
    "dropindex = df_reviews_agg[df_reviews_agg['active_days']<90].index\n",
    "df_reviews_agg.drop(dropindex, inplace=True)"
   ]
  },
  {
   "cell_type": "code",
   "execution_count": 9,
   "metadata": {},
   "outputs": [
    {
     "name": "stdout",
     "output_type": "stream",
     "text": [
      "5703\n",
      "6824\n"
     ]
    }
   ],
   "source": [
    "print(len(df_reviews_agg))\n",
    "print(df_reviews['listing_id'].nunique())"
   ]
  },
  {
   "cell_type": "code",
   "execution_count": 10,
   "metadata": {},
   "outputs": [],
   "source": [
    "# calculate avg number of reviews per day\n",
    "df_reviews_agg['avg_reviews'] = df_reviews_agg['count']/df_reviews_agg['active_days'] "
   ]
  },
  {
   "cell_type": "code",
   "execution_count": 11,
   "metadata": {},
   "outputs": [
    {
     "data": {
      "image/png": "[encoded data removed]",
      "text/plain": [
       "<Figure size 432x288 with 1 Axes>"
      ]
     },
     "metadata": {
      "needs_background": "light"
     },
     "output_type": "display_data"
    }
   ],
   "source": [
    "df_reviews_agg.sort_values(by='active_days')\n",
    "plt.scatter(df_reviews_agg['active_days'], df_reviews_agg['avg_reviews'])\n",
    "plt.show()"
   ]
  },
  {
   "cell_type": "code",
   "execution_count": 12,
   "metadata": {},
   "outputs": [
    {
     "data": {
      "text/html": [
       "<div>\n",
       "<style scoped>\n",
       "    .dataframe tbody tr th:only-of-type {\n",
       "        vertical-align: middle;\n",
       "    }\n",
       "\n",
       "    .dataframe tbody tr th {\n",
       "        vertical-align: top;\n",
       "    }\n",
       "\n",
       "    .dataframe thead th {\n",
       "        text-align: right;\n",
       "    }\n",
       "</style>\n",
       "<table border=\"1\" class=\"dataframe\">\n",
       "  <thead>\n",
       "    <tr style=\"text-align: right;\">\n",
       "      <th></th>\n",
       "      <th>listing_id</th>\n",
       "      <th>min</th>\n",
       "      <th>max</th>\n",
       "      <th>count</th>\n",
       "      <th>nunique</th>\n",
       "      <th>active_days</th>\n",
       "      <th>avg_reviews</th>\n",
       "    </tr>\n",
       "  </thead>\n",
       "  <tbody>\n",
       "    <tr>\n",
       "      <th>3368</th>\n",
       "      <td>44118481</td>\n",
       "      <td>2020-09-08</td>\n",
       "      <td>2022-09-13</td>\n",
       "      <td>536</td>\n",
       "      <td>532</td>\n",
       "      <td>735</td>\n",
       "      <td>0.729252</td>\n",
       "    </tr>\n",
       "    <tr>\n",
       "      <th>4168</th>\n",
       "      <td>49516167</td>\n",
       "      <td>2021-05-16</td>\n",
       "      <td>2022-09-01</td>\n",
       "      <td>327</td>\n",
       "      <td>325</td>\n",
       "      <td>473</td>\n",
       "      <td>0.691332</td>\n",
       "    </tr>\n",
       "    <tr>\n",
       "      <th>4889</th>\n",
       "      <td>52735247</td>\n",
       "      <td>2022-02-13</td>\n",
       "      <td>2022-08-30</td>\n",
       "      <td>201</td>\n",
       "      <td>198</td>\n",
       "      <td>198</td>\n",
       "      <td>1.015152</td>\n",
       "    </tr>\n",
       "    <tr>\n",
       "      <th>4912</th>\n",
       "      <td>52796641</td>\n",
       "      <td>2021-10-24</td>\n",
       "      <td>2022-09-01</td>\n",
       "      <td>208</td>\n",
       "      <td>206</td>\n",
       "      <td>312</td>\n",
       "      <td>0.666667</td>\n",
       "    </tr>\n",
       "    <tr>\n",
       "      <th>5377</th>\n",
       "      <td>54227245</td>\n",
       "      <td>2022-01-14</td>\n",
       "      <td>2022-09-14</td>\n",
       "      <td>768</td>\n",
       "      <td>755</td>\n",
       "      <td>243</td>\n",
       "      <td>3.160494</td>\n",
       "    </tr>\n",
       "    <tr>\n",
       "      <th>5379</th>\n",
       "      <td>54239596</td>\n",
       "      <td>2022-01-30</td>\n",
       "      <td>2022-09-12</td>\n",
       "      <td>152</td>\n",
       "      <td>152</td>\n",
       "      <td>225</td>\n",
       "      <td>0.675556</td>\n",
       "    </tr>\n",
       "    <tr>\n",
       "      <th>5474</th>\n",
       "      <td>548323419852960463</td>\n",
       "      <td>2022-02-26</td>\n",
       "      <td>2022-08-31</td>\n",
       "      <td>239</td>\n",
       "      <td>237</td>\n",
       "      <td>186</td>\n",
       "      <td>1.284946</td>\n",
       "    </tr>\n",
       "    <tr>\n",
       "      <th>5927</th>\n",
       "      <td>587158401761219683</td>\n",
       "      <td>2022-03-29</td>\n",
       "      <td>2022-09-01</td>\n",
       "      <td>105</td>\n",
       "      <td>101</td>\n",
       "      <td>156</td>\n",
       "      <td>0.673077</td>\n",
       "    </tr>\n",
       "    <tr>\n",
       "      <th>6130</th>\n",
       "      <td>608614132921447513</td>\n",
       "      <td>2022-06-04</td>\n",
       "      <td>2022-09-05</td>\n",
       "      <td>244</td>\n",
       "      <td>243</td>\n",
       "      <td>93</td>\n",
       "      <td>2.623656</td>\n",
       "    </tr>\n",
       "  </tbody>\n",
       "</table>\n",
       "</div>"
      ],
      "text/plain": [
       "              listing_id        min        max  count  nunique  active_days  \\\n",
       "3368            44118481 2020-09-08 2022-09-13    536      532          735   \n",
       "4168            49516167 2021-05-16 2022-09-01    327      325          473   \n",
       "4889            52735247 2022-02-13 2022-08-30    201      198          198   \n",
       "4912            52796641 2021-10-24 2022-09-01    208      206          312   \n",
       "5377            54227245 2022-01-14 2022-09-14    768      755          243   \n",
       "5379            54239596 2022-01-30 2022-09-12    152      152          225   \n",
       "5474  548323419852960463 2022-02-26 2022-08-31    239      237          186   \n",
       "5927  587158401761219683 2022-03-29 2022-09-01    105      101          156   \n",
       "6130  608614132921447513 2022-06-04 2022-09-05    244      243           93   \n",
       "\n",
       "      avg_reviews  \n",
       "3368     0.729252  \n",
       "4168     0.691332  \n",
       "4889     1.015152  \n",
       "4912     0.666667  \n",
       "5377     3.160494  \n",
       "5379     0.675556  \n",
       "5474     1.284946  \n",
       "5927     0.673077  \n",
       "6130     2.623656  "
      ]
     },
     "execution_count": 12,
     "metadata": {},
     "output_type": "execute_result"
    }
   ],
   "source": [
    "# let's look at the listings with high values for avg_reviews\n",
    "df_reviews_agg[df_reviews_agg['avg_reviews']>0.6]"
   ]
  },
  {
   "cell_type": "raw",
   "metadata": {},
   "source": [
    "A couple of values for avg_reviews are very suspicious, indicating the presence of fake reviews.\n",
    "\n",
    "The two legit circumstances I can think of are \n",
    "1.   friend/family groups co-stayimg at a larger place and everyone is allowed to leave separate reviews by airbnb,\n",
    "    i.e. at a particular date, there could be more than 1 legit review\n",
    "2.   The listing id is new while the listing isn't, i.e. reviews could have been manually transferred\n",
    "\n",
    "Here are the listings with highest values:\n",
    "2.62 avg reviews per day: https://www.airbnb.com/rooms/60861413292144751\n",
    "3.13 avg reviews per day: https://www.airbnb.com/rooms/54227245\n",
    "\n",
    "As can be seen, neither of these places is big enough to really let large groups co-stay.\n",
    "This leaves option 2 (plot by date and see if a large number of early reviews):"
   ]
  },
  {
   "cell_type": "code",
   "execution_count": 13,
   "metadata": {},
   "outputs": [
    {
     "data": {
      "image/png": "[encoded data removed]",
      "text/plain": [
       "<Figure size 432x288 with 1 Axes>"
      ]
     },
     "metadata": {
      "needs_background": "light"
     },
     "output_type": "display_data"
    }
   ],
   "source": [
    "temp = df_reviews[df_reviews['listing_id']== 54227245]\n",
    "\n",
    "temp_gpby = temp.groupby(by='date').count()\n",
    "#temp_gpby\n",
    "plt.scatter(temp_gpby.index, temp_gpby['listing_id'])\n",
    "plt.show()"
   ]
  },
  {
   "cell_type": "raw",
   "metadata": {},
   "source": [
    "Option 2 is also ruled out -> fake reviews"
   ]
  },
  {
   "cell_type": "code",
   "execution_count": 14,
   "metadata": {},
   "outputs": [],
   "source": [
    "# drop listings with > 1.0 avg_reviews\n",
    "dropindex = df_reviews_agg[df_reviews_agg['avg_reviews']>1].index\n",
    "df_reviews_agg.drop(dropindex, inplace = True)"
   ]
  },
  {
   "cell_type": "code",
   "execution_count": 15,
   "metadata": {},
   "outputs": [
    {
     "data": {
      "text/plain": [
       "<AxesSubplot:>"
      ]
     },
     "execution_count": 15,
     "metadata": {},
     "output_type": "execute_result"
    },
    {
     "data": {
      "image/png": "[encoded data removed]",
      "text/plain": [
       "<Figure size 432x288 with 1 Axes>"
      ]
     },
     "metadata": {
      "needs_background": "light"
     },
     "output_type": "display_data"
    }
   ],
   "source": [
    "df_reviews_agg['avg_reviews'].hist(bins=40)"
   ]
  },
  {
   "cell_type": "code",
   "execution_count": 16,
   "metadata": {},
   "outputs": [
    {
     "data": {
      "text/html": [
       "<div>\n",
       "<style scoped>\n",
       "    .dataframe tbody tr th:only-of-type {\n",
       "        vertical-align: middle;\n",
       "    }\n",
       "\n",
       "    .dataframe tbody tr th {\n",
       "        vertical-align: top;\n",
       "    }\n",
       "\n",
       "    .dataframe thead th {\n",
       "        text-align: right;\n",
       "    }\n",
       "</style>\n",
       "<table border=\"1\" class=\"dataframe\">\n",
       "  <thead>\n",
       "    <tr style=\"text-align: right;\">\n",
       "      <th></th>\n",
       "      <th>listing_id</th>\n",
       "      <th>min</th>\n",
       "      <th>max</th>\n",
       "      <th>count</th>\n",
       "      <th>nunique</th>\n",
       "      <th>active_days</th>\n",
       "      <th>avg_reviews</th>\n",
       "    </tr>\n",
       "  </thead>\n",
       "  <tbody>\n",
       "    <tr>\n",
       "      <th>0</th>\n",
       "      <td>6422</td>\n",
       "      <td>2009-04-30</td>\n",
       "      <td>2020-03-03</td>\n",
       "      <td>674</td>\n",
       "      <td>651</td>\n",
       "      <td>3960</td>\n",
       "      <td>0.170202</td>\n",
       "    </tr>\n",
       "    <tr>\n",
       "      <th>1</th>\n",
       "      <td>39870</td>\n",
       "      <td>2016-09-16</td>\n",
       "      <td>2022-09-11</td>\n",
       "      <td>328</td>\n",
       "      <td>291</td>\n",
       "      <td>2186</td>\n",
       "      <td>0.150046</td>\n",
       "    </tr>\n",
       "    <tr>\n",
       "      <th>3</th>\n",
       "      <td>72906</td>\n",
       "      <td>2011-06-09</td>\n",
       "      <td>2022-09-11</td>\n",
       "      <td>658</td>\n",
       "      <td>653</td>\n",
       "      <td>4112</td>\n",
       "      <td>0.160019</td>\n",
       "    </tr>\n",
       "    <tr>\n",
       "      <th>4</th>\n",
       "      <td>258817</td>\n",
       "      <td>2011-12-12</td>\n",
       "      <td>2019-12-14</td>\n",
       "      <td>96</td>\n",
       "      <td>96</td>\n",
       "      <td>2924</td>\n",
       "      <td>0.032832</td>\n",
       "    </tr>\n",
       "    <tr>\n",
       "      <th>5</th>\n",
       "      <td>289242</td>\n",
       "      <td>2011-12-28</td>\n",
       "      <td>2019-01-12</td>\n",
       "      <td>76</td>\n",
       "      <td>76</td>\n",
       "      <td>2572</td>\n",
       "      <td>0.029549</td>\n",
       "    </tr>\n",
       "    <tr>\n",
       "      <th>...</th>\n",
       "      <td>...</td>\n",
       "      <td>...</td>\n",
       "      <td>...</td>\n",
       "      <td>...</td>\n",
       "      <td>...</td>\n",
       "      <td>...</td>\n",
       "      <td>...</td>\n",
       "    </tr>\n",
       "    <tr>\n",
       "      <th>6396</th>\n",
       "      <td>640786779988883222</td>\n",
       "      <td>2022-06-12</td>\n",
       "      <td>2022-09-12</td>\n",
       "      <td>12</td>\n",
       "      <td>12</td>\n",
       "      <td>92</td>\n",
       "      <td>0.130435</td>\n",
       "    </tr>\n",
       "    <tr>\n",
       "      <th>6400</th>\n",
       "      <td>641323368096916217</td>\n",
       "      <td>2022-06-13</td>\n",
       "      <td>2022-09-12</td>\n",
       "      <td>9</td>\n",
       "      <td>9</td>\n",
       "      <td>91</td>\n",
       "      <td>0.098901</td>\n",
       "    </tr>\n",
       "    <tr>\n",
       "      <th>6406</th>\n",
       "      <td>642638292989650849</td>\n",
       "      <td>2022-06-07</td>\n",
       "      <td>2022-09-13</td>\n",
       "      <td>21</td>\n",
       "      <td>21</td>\n",
       "      <td>98</td>\n",
       "      <td>0.214286</td>\n",
       "    </tr>\n",
       "    <tr>\n",
       "      <th>6408</th>\n",
       "      <td>642941622823561145</td>\n",
       "      <td>2022-06-12</td>\n",
       "      <td>2022-09-11</td>\n",
       "      <td>10</td>\n",
       "      <td>10</td>\n",
       "      <td>91</td>\n",
       "      <td>0.109890</td>\n",
       "    </tr>\n",
       "    <tr>\n",
       "      <th>6782</th>\n",
       "      <td>695488135268661750</td>\n",
       "      <td>2021-11-02</td>\n",
       "      <td>2022-07-01</td>\n",
       "      <td>5</td>\n",
       "      <td>5</td>\n",
       "      <td>241</td>\n",
       "      <td>0.020747</td>\n",
       "    </tr>\n",
       "  </tbody>\n",
       "</table>\n",
       "<p>5699 rows × 7 columns</p>\n",
       "</div>"
      ],
      "text/plain": [
       "              listing_id        min        max  count  nunique  active_days  \\\n",
       "0                   6422 2009-04-30 2020-03-03    674      651         3960   \n",
       "1                  39870 2016-09-16 2022-09-11    328      291         2186   \n",
       "3                  72906 2011-06-09 2022-09-11    658      653         4112   \n",
       "4                 258817 2011-12-12 2019-12-14     96       96         2924   \n",
       "5                 289242 2011-12-28 2019-01-12     76       76         2572   \n",
       "...                  ...        ...        ...    ...      ...          ...   \n",
       "6396  640786779988883222 2022-06-12 2022-09-12     12       12           92   \n",
       "6400  641323368096916217 2022-06-13 2022-09-12      9        9           91   \n",
       "6406  642638292989650849 2022-06-07 2022-09-13     21       21           98   \n",
       "6408  642941622823561145 2022-06-12 2022-09-11     10       10           91   \n",
       "6782  695488135268661750 2021-11-02 2022-07-01      5        5          241   \n",
       "\n",
       "      avg_reviews  \n",
       "0        0.170202  \n",
       "1        0.150046  \n",
       "3        0.160019  \n",
       "4        0.032832  \n",
       "5        0.029549  \n",
       "...           ...  \n",
       "6396     0.130435  \n",
       "6400     0.098901  \n",
       "6406     0.214286  \n",
       "6408     0.109890  \n",
       "6782     0.020747  \n",
       "\n",
       "[5699 rows x 7 columns]"
      ]
     },
     "execution_count": 16,
     "metadata": {},
     "output_type": "execute_result"
    }
   ],
   "source": [
    "df_reviews_agg"
   ]
  },
  {
   "cell_type": "markdown",
   "metadata": {},
   "source": [
    "# Retrieve data from listings.csv"
   ]
  },
  {
   "cell_type": "code",
   "execution_count": 17,
   "metadata": {},
   "outputs": [],
   "source": [
    "df_listings_latest = pd.read_csv('C:/Users/Immig/Documents/DSBA-6211/Project_Airbnb/data/2022-09-15/listings.csv', index_col='id')"
   ]
  },
  {
   "cell_type": "code",
   "execution_count": 18,
   "metadata": {},
   "outputs": [
    {
     "data": {
      "text/plain": [
       "Index(['listing_url', 'scrape_id', 'last_scraped', 'source', 'name',\n",
       "       'description', 'neighborhood_overview', 'picture_url', 'host_id',\n",
       "       'host_url', 'host_name', 'host_since', 'host_location', 'host_about',\n",
       "       'host_response_time', 'host_response_rate', 'host_acceptance_rate',\n",
       "       'host_is_superhost', 'host_thumbnail_url', 'host_picture_url',\n",
       "       'host_neighbourhood', 'host_listings_count',\n",
       "       'host_total_listings_count', 'host_verifications',\n",
       "       'host_has_profile_pic', 'host_identity_verified', 'neighbourhood',\n",
       "       'neighbourhood_cleansed', 'neighbourhood_group_cleansed', 'latitude',\n",
       "       'longitude', 'property_type', 'room_type', 'accommodates', 'bathrooms',\n",
       "       'bathrooms_text', 'bedrooms', 'beds', 'amenities', 'price',\n",
       "       'minimum_nights', 'maximum_nights', 'minimum_minimum_nights',\n",
       "       'maximum_minimum_nights', 'minimum_maximum_nights',\n",
       "       'maximum_maximum_nights', 'minimum_nights_avg_ntm',\n",
       "       'maximum_nights_avg_ntm', 'calendar_updated', 'has_availability',\n",
       "       'availability_30', 'availability_60', 'availability_90',\n",
       "       'availability_365', 'calendar_last_scraped', 'number_of_reviews',\n",
       "       'number_of_reviews_ltm', 'number_of_reviews_l30d', 'first_review',\n",
       "       'last_review', 'review_scores_rating', 'review_scores_accuracy',\n",
       "       'review_scores_cleanliness', 'review_scores_checkin',\n",
       "       'review_scores_communication', 'review_scores_location',\n",
       "       'review_scores_value', 'license', 'instant_bookable',\n",
       "       'calculated_host_listings_count',\n",
       "       'calculated_host_listings_count_entire_homes',\n",
       "       'calculated_host_listings_count_private_rooms',\n",
       "       'calculated_host_listings_count_shared_rooms', 'reviews_per_month'],\n",
       "      dtype='object')"
      ]
     },
     "execution_count": 18,
     "metadata": {},
     "output_type": "execute_result"
    }
   ],
   "source": [
    "df_listings_latest.columns"
   ]
  },
  {
   "cell_type": "code",
   "execution_count": 38,
   "metadata": {},
   "outputs": [
    {
     "data": {
      "text/plain": [
       "Index(['listing_id', 'min', 'max', 'count', 'nunique', 'active_days',\n",
       "       'avg_reviews'],\n",
       "      dtype='object')"
      ]
     },
     "execution_count": 38,
     "metadata": {},
     "output_type": "execute_result"
    }
   ],
   "source": [
    "df_reviews_agg.columns"
   ]
  },
  {
   "cell_type": "code",
   "execution_count": 33,
   "metadata": {},
   "outputs": [],
   "source": [
    "df_combined = df_reviews_agg.join(df_listings_latest, on='listing_id', how='inner')"
   ]
  },
  {
   "cell_type": "code",
   "execution_count": 39,
   "metadata": {},
   "outputs": [],
   "source": [
    "df_combined['active_days2'] = (pd.to_datetime(df_combined['last_review']) - pd.to_datetime(df_combined['first_review'])).dt.days"
   ]
  },
  {
   "cell_type": "code",
   "execution_count": 40,
   "metadata": {},
   "outputs": [],
   "source": [
    "df_combined['avg_reviews2'] = df_combined['number_of_reviews']/df_combined['active_days2']\n",
    "df_combined['review_residual'] = df_combined['avg_reviews2']-df_combined['avg_reviews']"
   ]
  },
  {
   "cell_type": "code",
   "execution_count": 41,
   "metadata": {},
   "outputs": [
    {
     "data": {
      "image/png": "[encoded data removed]",
      "text/plain": [
       "<Figure size 432x288 with 1 Axes>"
      ]
     },
     "metadata": {
      "needs_background": "light"
     },
     "output_type": "display_data"
    }
   ],
   "source": [
    "\n",
    "df_combined = df_combined.sort_values(by='avg_reviews', ascending=True)\n",
    "\n",
    "plt.figure(0)\n",
    "plt.plot(np.arange(len(df_combined)), df_combined['review_residual'])\n",
    "plt.show()"
   ]
  }
 ],
 "metadata": {
  "kernelspec": {
   "display_name": "Python 3.9.7 ('base')",
   "language": "python",
   "name": "python3"
  },
  "language_info": {
   "codemirror_mode": {
    "name": "ipython",
    "version": 3
   },
   "file_extension": ".py",
   "mimetype": "text/x-python",
   "name": "python",
   "nbconvert_exporter": "python",
   "pygments_lexer": "ipython3",
   "version": "3.9.7"
  },
  "orig_nbformat": 4,
  "vscode": {
   "interpreter": {
    "hash": "4f6b15828e38435dc0130cb820d476724eb9da0616a1f96736a4295695b7d921"
   }
  }
 },
 "nbformat": 4,
 "nbformat_minor": 2
}
