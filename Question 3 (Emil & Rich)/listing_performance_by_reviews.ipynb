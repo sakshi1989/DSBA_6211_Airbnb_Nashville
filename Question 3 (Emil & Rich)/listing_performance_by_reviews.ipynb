{
 "cells": [
  {
   "cell_type": "code",
   "execution_count": 1,
   "metadata": {},
   "outputs": [],
   "source": [
    "import pandas as pd\n",
    "import numpy as np\n"
   ]
  },
  {
   "cell_type": "code",
   "execution_count": 10,
   "metadata": {},
   "outputs": [],
   "source": [
    "#get most recent scrape's listings + reviews\n",
    "df_listings = pd.read_csv(r'../data/2022-09-15/listings.csv')\n",
    "df_listings = df_listings.rename(columns={\"id\":\"listing_id\"}) #rename id field so joined df is clear\n",
    "df_reviews = pd.read_csv(r'../data/2022-09-15/reviews.csv')\n",
    "df_reviews = df_reviews.rename(columns={\"id\":\"review_id\"}) #rename id field so joined df is clear\n",
    "\n",
    "df_listings_reviews = pd.merge(df_listings, df_reviews, how=\"inner\", on=\"listing_id\") #just like a sql inner join on listing_id"
   ]
  },
  {
   "cell_type": "code",
   "execution_count": null,
   "metadata": {},
   "outputs": [],
   "source": [
    "df_listings_reviews"
   ]
  },
  {
   "cell_type": "code",
   "execution_count": null,
   "metadata": {},
   "outputs": [],
   "source": [
    "#TODO discuss with Emil how we can estimate how long a stay was for each reviewer.\n",
    "#possible ways:\n",
    "    # average amount of time between reviews on each listing\n",
    "        #pros - pretty granular\n",
    "        #cons - assumption on 70% reviews left becomes a compounding error - maybe take the lower 20th percentile of times between reviews\n",
    "    # simply using minimum stay time (not accurate, but I'm thinking this can be combined with something else)\n",
    "        #pros - easy and consistent between listings\n",
    "        #cons - listings with monthly min stay get overvalued and short stay undervalued\n",
    "    # use the calendar to determine a stay length metric using recent bookings (will be way off - see cons)\n",
    "        #pros - at first thought seems the most accurate\n",
    "        #cons - second thought: if bookings are back to back, there's no way to know they're 2 seperate bookings and accuracy will be way off\n",
    "    # use combined calendar + reviews to identify split between back to back bookings (lots of assumptions - see cons)\n",
    "        #pros - could theorhetically be the most accurate\n",
    "        #cons - extremely complex and people who didn't leave reviews will massively hinder accuracy\n",
    "                # assumes reviews were actaully left in a timely manner\n",
    "    # don't even use review data and use reviews_per_month and minimum_stay length to try determine a booking rate (esentailly the combination of 1 + 2, easy to do, probably our best bet)\n",
    "        #pros - easyto implement: all calculations can be done with listings.csv\n",
    "        #cons - hardest to verify accuracy"
   ]
  }
 ],
 "metadata": {
  "kernelspec": {
   "display_name": "Python 3.10.2 64-bit",
   "language": "python",
   "name": "python3"
  },
  "language_info": {
   "codemirror_mode": {
    "name": "ipython",
    "version": 3
   },
   "file_extension": ".py",
   "mimetype": "text/x-python",
   "name": "python",
   "nbconvert_exporter": "python",
   "pygments_lexer": "ipython3",
   "version": "3.10.2"
  },
  "orig_nbformat": 4,
  "vscode": {
   "interpreter": {
    "hash": "b38687464f26cc788bd6aab5d6ae24f3673c8f039be5f165e71e31106dd7d5ca"
   }
  }
 },
 "nbformat": 4,
 "nbformat_minor": 2
}
