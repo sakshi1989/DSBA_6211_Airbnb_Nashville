{
 "cells": [
  {
   "cell_type": "code",
   "execution_count": 22,
   "metadata": {},
   "outputs": [],
   "source": [
    "import pandas as pd\n",
    "import numpy as np"
   ]
  },
  {
   "cell_type": "code",
   "execution_count": 34,
   "metadata": {},
   "outputs": [],
   "source": [
    "df = pd.read_parquet('_df_for_modeling.parquet')"
   ]
  },
  {
   "cell_type": "code",
   "execution_count": 33,
   "metadata": {},
   "outputs": [
    {
     "data": {
      "text/plain": [
       "0       f\n",
       "1       f\n",
       "2       t\n",
       "3       f\n",
       "4       f\n",
       "       ..\n",
       "6858    t\n",
       "6859    f\n",
       "6860    t\n",
       "6861    f\n",
       "6862    f\n",
       "Name: host_is_superhost, Length: 6863, dtype: object"
      ]
     },
     "execution_count": 33,
     "metadata": {},
     "output_type": "execute_result"
    }
   ],
   "source": [
    "df['host_is_superhost']"
   ]
  },
  {
   "cell_type": "code",
   "execution_count": 25,
   "metadata": {},
   "outputs": [
    {
     "name": "stdout",
     "output_type": "stream",
     "text": [
      "<class 'pandas.core.frame.DataFrame'>\n",
      "RangeIndex: 6863 entries, 0 to 6862\n",
      "Data columns (total 73 columns):\n",
      " #   Column                                        Non-Null Count  Dtype  \n",
      "---  ------                                        --------------  -----  \n",
      " 0   id                                            6863 non-null   int64  \n",
      " 1   listing_url                                   6863 non-null   object \n",
      " 2   scrape_id                                     6863 non-null   int64  \n",
      " 3   last_scraped                                  6863 non-null   object \n",
      " 4   name                                          6863 non-null   object \n",
      " 5   description                                   6850 non-null   object \n",
      " 6   neighborhood_overview                         4913 non-null   object \n",
      " 7   picture_url                                   6863 non-null   object \n",
      " 8   host_id                                       6863 non-null   int64  \n",
      " 9   host_url                                      6863 non-null   object \n",
      " 10  host_name                                     6833 non-null   object \n",
      " 11  host_since                                    6833 non-null   object \n",
      " 12  host_location                                 6020 non-null   object \n",
      " 13  host_about                                    4891 non-null   object \n",
      " 14  host_response_time                            6538 non-null   object \n",
      " 15  host_response_rate                            6538 non-null   object \n",
      " 16  host_acceptance_rate                          6681 non-null   object \n",
      " 17  host_is_superhost                             6861 non-null   object \n",
      " 18  host_thumbnail_url                            6833 non-null   object \n",
      " 19  host_picture_url                              6833 non-null   object \n",
      " 20  host_neighbourhood                            4897 non-null   object \n",
      " 21  host_listings_count                           6833 non-null   float64\n",
      " 22  host_total_listings_count                     6833 non-null   float64\n",
      " 23  host_verifications                            6863 non-null   object \n",
      " 24  host_has_profile_pic                          6833 non-null   object \n",
      " 25  host_identity_verified                        6833 non-null   object \n",
      " 26  neighbourhood                                 4913 non-null   object \n",
      " 27  neighbourhood_cleansed                        6863 non-null   object \n",
      " 28  latitude                                      6863 non-null   float64\n",
      " 29  longitude                                     6863 non-null   float64\n",
      " 30  property_type                                 6863 non-null   object \n",
      " 31  room_type                                     6863 non-null   object \n",
      " 32  accommodates                                  6863 non-null   int64  \n",
      " 33  bathrooms_text                                6861 non-null   object \n",
      " 34  bedrooms                                      6591 non-null   float64\n",
      " 35  beds                                          6836 non-null   float64\n",
      " 36  amenities                                     6863 non-null   object \n",
      " 37  price                                         6863 non-null   object \n",
      " 38  minimum_nights                                6863 non-null   int64  \n",
      " 39  maximum_nights                                6863 non-null   int64  \n",
      " 40  minimum_minimum_nights                        6863 non-null   float64\n",
      " 41  maximum_minimum_nights                        6863 non-null   float64\n",
      " 42  minimum_maximum_nights                        6863 non-null   float64\n",
      " 43  maximum_maximum_nights                        6863 non-null   float64\n",
      " 44  minimum_nights_avg_ntm                        6863 non-null   float64\n",
      " 45  maximum_nights_avg_ntm                        6863 non-null   float64\n",
      " 46  has_availability                              6863 non-null   object \n",
      " 47  availability_30                               6863 non-null   int64  \n",
      " 48  availability_60                               6863 non-null   int64  \n",
      " 49  availability_90                               6863 non-null   int64  \n",
      " 50  availability_365                              6863 non-null   int64  \n",
      " 51  calendar_last_scraped                         6863 non-null   object \n",
      " 52  number_of_reviews                             6863 non-null   int64  \n",
      " 53  number_of_reviews_ltm                         6863 non-null   int64  \n",
      " 54  number_of_reviews_l30d                        6863 non-null   int64  \n",
      " 55  first_review                                  6863 non-null   object \n",
      " 56  last_review                                   6863 non-null   object \n",
      " 57  review_scores_rating                          6863 non-null   float64\n",
      " 58  review_scores_accuracy                        6860 non-null   float64\n",
      " 59  review_scores_cleanliness                     6860 non-null   float64\n",
      " 60  review_scores_checkin                         6860 non-null   float64\n",
      " 61  review_scores_communication                   6860 non-null   float64\n",
      " 62  review_scores_location                        6860 non-null   float64\n",
      " 63  review_scores_value                           6860 non-null   float64\n",
      " 64  instant_bookable                              6863 non-null   object \n",
      " 65  calculated_host_listings_count                6863 non-null   int64  \n",
      " 66  calculated_host_listings_count_entire_homes   6863 non-null   int64  \n",
      " 67  calculated_host_listings_count_private_rooms  6863 non-null   int64  \n",
      " 68  calculated_host_listings_count_shared_rooms   6863 non-null   int64  \n",
      " 69  reviews_per_month                             6863 non-null   float64\n",
      " 70  count_date                                    6863 non-null   int64  \n",
      " 71  avg_price                                     6863 non-null   float64\n",
      " 72  dep_candidate                                 6863 non-null   float64\n",
      "dtypes: float64(22), int64(18), object(33)\n",
      "memory usage: 3.8+ MB\n"
     ]
    }
   ],
   "source": [
    "df.info()"
   ]
  },
  {
   "cell_type": "code",
   "execution_count": 28,
   "metadata": {},
   "outputs": [
    {
     "data": {
      "text/plain": [
       "73"
      ]
     },
     "execution_count": 28,
     "metadata": {},
     "output_type": "execute_result"
    }
   ],
   "source": [
    "len(df.columns)"
   ]
  },
  {
   "cell_type": "code",
   "execution_count": 36,
   "metadata": {},
   "outputs": [
    {
     "ename": "AttributeError",
     "evalue": "Can only use .str accessor with string values!",
     "output_type": "error",
     "traceback": [
      "\u001b[1;31m---------------------------------------------------------------------------\u001b[0m",
      "\u001b[1;31mAttributeError\u001b[0m                            Traceback (most recent call last)",
      "\u001b[1;32mc:\\Users\\Immig\\Documents\\DSBA-6211\\Project_Airbnb\\github_main\\DSBA_6211_Airbnb_Nashville\\Question 3 (Emil & Rich)\\modeling_es.ipynb Cell 6\u001b[0m in \u001b[0;36m<cell line: 38>\u001b[1;34m()\u001b[0m\n\u001b[0;32m     <a href='vscode-notebook-cell:/c%3A/Users/Immig/Documents/DSBA-6211/Project_Airbnb/github_main/DSBA_6211_Airbnb_Nashville/Question%203%20%28Emil%20%26%20Rich%29/modeling_es.ipynb#W3sZmlsZQ%3D%3D?line=33'>34</a>\u001b[0m         df[col] \u001b[39m=\u001b[39m df[col]\u001b[39m.\u001b[39mastype(\u001b[39m'\u001b[39m\u001b[39mobject\u001b[39m\u001b[39m'\u001b[39m)\n\u001b[0;32m     <a href='vscode-notebook-cell:/c%3A/Users/Immig/Documents/DSBA-6211/Project_Airbnb/github_main/DSBA_6211_Airbnb_Nashville/Question%203%20%28Emil%20%26%20Rich%29/modeling_es.ipynb#W3sZmlsZQ%3D%3D?line=35'>36</a>\u001b[0m     \u001b[39mreturn\u001b[39;00m df\n\u001b[1;32m---> <a href='vscode-notebook-cell:/c%3A/Users/Immig/Documents/DSBA-6211/Project_Airbnb/github_main/DSBA_6211_Airbnb_Nashville/Question%203%20%28Emil%20%26%20Rich%29/modeling_es.ipynb#W3sZmlsZQ%3D%3D?line=37'>38</a>\u001b[0m df_clean \u001b[39m=\u001b[39m data_cleanup(df)\n",
      "\u001b[1;32mc:\\Users\\Immig\\Documents\\DSBA-6211\\Project_Airbnb\\github_main\\DSBA_6211_Airbnb_Nashville\\Question 3 (Emil & Rich)\\modeling_es.ipynb Cell 6\u001b[0m in \u001b[0;36mdata_cleanup\u001b[1;34m(df)\u001b[0m\n\u001b[0;32m      <a href='vscode-notebook-cell:/c%3A/Users/Immig/Documents/DSBA-6211/Project_Airbnb/github_main/DSBA_6211_Airbnb_Nashville/Question%203%20%28Emil%20%26%20Rich%29/modeling_es.ipynb#W3sZmlsZQ%3D%3D?line=5'>6</a>\u001b[0m \u001b[39mfor\u001b[39;00m col \u001b[39min\u001b[39;00m number_looking_strings:\n\u001b[0;32m      <a href='vscode-notebook-cell:/c%3A/Users/Immig/Documents/DSBA-6211/Project_Airbnb/github_main/DSBA_6211_Airbnb_Nashville/Question%203%20%28Emil%20%26%20Rich%29/modeling_es.ipynb#W3sZmlsZQ%3D%3D?line=6'>7</a>\u001b[0m     df[col] \u001b[39m=\u001b[39m df[col]\u001b[39m.\u001b[39mastype(\u001b[39m\"\u001b[39m\u001b[39mstring\u001b[39m\u001b[39m\"\u001b[39m)\n\u001b[1;32m----> <a href='vscode-notebook-cell:/c%3A/Users/Immig/Documents/DSBA-6211/Project_Airbnb/github_main/DSBA_6211_Airbnb_Nashville/Question%203%20%28Emil%20%26%20Rich%29/modeling_es.ipynb#W3sZmlsZQ%3D%3D?line=8'>9</a>\u001b[0m df[\u001b[39m'\u001b[39m\u001b[39mhost_response_rate\u001b[39m\u001b[39m'\u001b[39m] \u001b[39m=\u001b[39m df[\u001b[39m'\u001b[39;49m\u001b[39mhost_response_rate\u001b[39;49m\u001b[39m'\u001b[39;49m]\u001b[39m.\u001b[39;49mstr\u001b[39m.\u001b[39mreplace(\u001b[39m\"\u001b[39m\u001b[39m%\u001b[39m\u001b[39m\"\u001b[39m,\u001b[39m\"\u001b[39m\u001b[39m\"\u001b[39m)\u001b[39m.\u001b[39mastype(\u001b[39mfloat\u001b[39m)\u001b[39m/\u001b[39m\u001b[39m100\u001b[39m \u001b[39m#previously a percentage as a string\u001b[39;00m\n\u001b[0;32m     <a href='vscode-notebook-cell:/c%3A/Users/Immig/Documents/DSBA-6211/Project_Airbnb/github_main/DSBA_6211_Airbnb_Nashville/Question%203%20%28Emil%20%26%20Rich%29/modeling_es.ipynb#W3sZmlsZQ%3D%3D?line=9'>10</a>\u001b[0m df[\u001b[39m'\u001b[39m\u001b[39mhost_acceptance_rate\u001b[39m\u001b[39m'\u001b[39m] \u001b[39m=\u001b[39m df[\u001b[39m'\u001b[39m\u001b[39mhost_acceptance_rate\u001b[39m\u001b[39m'\u001b[39m]\u001b[39m.\u001b[39mstr\u001b[39m.\u001b[39mreplace(\u001b[39m\"\u001b[39m\u001b[39m%\u001b[39m\u001b[39m\"\u001b[39m,\u001b[39m\"\u001b[39m\u001b[39m\"\u001b[39m)\u001b[39m.\u001b[39mastype(\u001b[39mfloat\u001b[39m)\u001b[39m/\u001b[39m\u001b[39m100\u001b[39m \u001b[39m#previously a percentage as a string\u001b[39;00m\n\u001b[0;32m     <a href='vscode-notebook-cell:/c%3A/Users/Immig/Documents/DSBA-6211/Project_Airbnb/github_main/DSBA_6211_Airbnb_Nashville/Question%203%20%28Emil%20%26%20Rich%29/modeling_es.ipynb#W3sZmlsZQ%3D%3D?line=10'>11</a>\u001b[0m df[\u001b[39m'\u001b[39m\u001b[39mprice\u001b[39m\u001b[39m'\u001b[39m] \u001b[39m=\u001b[39m df[\u001b[39m'\u001b[39m\u001b[39mprice\u001b[39m\u001b[39m'\u001b[39m]\u001b[39m.\u001b[39mstr\u001b[39m.\u001b[39mreplace(\u001b[39mr\u001b[39m\u001b[39m'\u001b[39m\u001b[39m[$,]\u001b[39m\u001b[39m'\u001b[39m,\u001b[39m\"\u001b[39m\u001b[39m\"\u001b[39m)\u001b[39m.\u001b[39mastype(\u001b[39mfloat\u001b[39m) \u001b[39m#previosuly represented as a string\u001b[39;00m\n",
      "File \u001b[1;32mc:\\Users\\Immig\\anaconda3\\envs\\dsba6211\\lib\\site-packages\\pandas\\core\\generic.py:5575\u001b[0m, in \u001b[0;36mNDFrame.__getattr__\u001b[1;34m(self, name)\u001b[0m\n\u001b[0;32m   5568\u001b[0m \u001b[39mif\u001b[39;00m (\n\u001b[0;32m   5569\u001b[0m     name \u001b[39mnot\u001b[39;00m \u001b[39min\u001b[39;00m \u001b[39mself\u001b[39m\u001b[39m.\u001b[39m_internal_names_set\n\u001b[0;32m   5570\u001b[0m     \u001b[39mand\u001b[39;00m name \u001b[39mnot\u001b[39;00m \u001b[39min\u001b[39;00m \u001b[39mself\u001b[39m\u001b[39m.\u001b[39m_metadata\n\u001b[0;32m   5571\u001b[0m     \u001b[39mand\u001b[39;00m name \u001b[39mnot\u001b[39;00m \u001b[39min\u001b[39;00m \u001b[39mself\u001b[39m\u001b[39m.\u001b[39m_accessors\n\u001b[0;32m   5572\u001b[0m     \u001b[39mand\u001b[39;00m \u001b[39mself\u001b[39m\u001b[39m.\u001b[39m_info_axis\u001b[39m.\u001b[39m_can_hold_identifiers_and_holds_name(name)\n\u001b[0;32m   5573\u001b[0m ):\n\u001b[0;32m   5574\u001b[0m     \u001b[39mreturn\u001b[39;00m \u001b[39mself\u001b[39m[name]\n\u001b[1;32m-> 5575\u001b[0m \u001b[39mreturn\u001b[39;00m \u001b[39mobject\u001b[39;49m\u001b[39m.\u001b[39;49m\u001b[39m__getattribute__\u001b[39;49m(\u001b[39mself\u001b[39;49m, name)\n",
      "File \u001b[1;32mc:\\Users\\Immig\\anaconda3\\envs\\dsba6211\\lib\\site-packages\\pandas\\core\\accessor.py:182\u001b[0m, in \u001b[0;36mCachedAccessor.__get__\u001b[1;34m(self, obj, cls)\u001b[0m\n\u001b[0;32m    179\u001b[0m \u001b[39mif\u001b[39;00m obj \u001b[39mis\u001b[39;00m \u001b[39mNone\u001b[39;00m:\n\u001b[0;32m    180\u001b[0m     \u001b[39m# we're accessing the attribute of the class, i.e., Dataset.geo\u001b[39;00m\n\u001b[0;32m    181\u001b[0m     \u001b[39mreturn\u001b[39;00m \u001b[39mself\u001b[39m\u001b[39m.\u001b[39m_accessor\n\u001b[1;32m--> 182\u001b[0m accessor_obj \u001b[39m=\u001b[39m \u001b[39mself\u001b[39;49m\u001b[39m.\u001b[39;49m_accessor(obj)\n\u001b[0;32m    183\u001b[0m \u001b[39m# Replace the property with the accessor object. Inspired by:\u001b[39;00m\n\u001b[0;32m    184\u001b[0m \u001b[39m# https://www.pydanny.com/cached-property.html\u001b[39;00m\n\u001b[0;32m    185\u001b[0m \u001b[39m# We need to use object.__setattr__ because we overwrite __setattr__ on\u001b[39;00m\n\u001b[0;32m    186\u001b[0m \u001b[39m# NDFrame\u001b[39;00m\n\u001b[0;32m    187\u001b[0m \u001b[39mobject\u001b[39m\u001b[39m.\u001b[39m\u001b[39m__setattr__\u001b[39m(obj, \u001b[39mself\u001b[39m\u001b[39m.\u001b[39m_name, accessor_obj)\n",
      "File \u001b[1;32mc:\\Users\\Immig\\anaconda3\\envs\\dsba6211\\lib\\site-packages\\pandas\\core\\strings\\accessor.py:177\u001b[0m, in \u001b[0;36mStringMethods.__init__\u001b[1;34m(self, data)\u001b[0m\n\u001b[0;32m    174\u001b[0m \u001b[39mdef\u001b[39;00m \u001b[39m__init__\u001b[39m(\u001b[39mself\u001b[39m, data):\n\u001b[0;32m    175\u001b[0m     \u001b[39mfrom\u001b[39;00m \u001b[39mpandas\u001b[39;00m\u001b[39m.\u001b[39;00m\u001b[39mcore\u001b[39;00m\u001b[39m.\u001b[39;00m\u001b[39marrays\u001b[39;00m\u001b[39m.\u001b[39;00m\u001b[39mstring_\u001b[39;00m \u001b[39mimport\u001b[39;00m StringDtype\n\u001b[1;32m--> 177\u001b[0m     \u001b[39mself\u001b[39m\u001b[39m.\u001b[39m_inferred_dtype \u001b[39m=\u001b[39m \u001b[39mself\u001b[39;49m\u001b[39m.\u001b[39;49m_validate(data)\n\u001b[0;32m    178\u001b[0m     \u001b[39mself\u001b[39m\u001b[39m.\u001b[39m_is_categorical \u001b[39m=\u001b[39m is_categorical_dtype(data\u001b[39m.\u001b[39mdtype)\n\u001b[0;32m    179\u001b[0m     \u001b[39mself\u001b[39m\u001b[39m.\u001b[39m_is_string \u001b[39m=\u001b[39m \u001b[39misinstance\u001b[39m(data\u001b[39m.\u001b[39mdtype, StringDtype)\n",
      "File \u001b[1;32mc:\\Users\\Immig\\anaconda3\\envs\\dsba6211\\lib\\site-packages\\pandas\\core\\strings\\accessor.py:231\u001b[0m, in \u001b[0;36mStringMethods._validate\u001b[1;34m(data)\u001b[0m\n\u001b[0;32m    228\u001b[0m inferred_dtype \u001b[39m=\u001b[39m lib\u001b[39m.\u001b[39minfer_dtype(values, skipna\u001b[39m=\u001b[39m\u001b[39mTrue\u001b[39;00m)\n\u001b[0;32m    230\u001b[0m \u001b[39mif\u001b[39;00m inferred_dtype \u001b[39mnot\u001b[39;00m \u001b[39min\u001b[39;00m allowed_types:\n\u001b[1;32m--> 231\u001b[0m     \u001b[39mraise\u001b[39;00m \u001b[39mAttributeError\u001b[39;00m(\u001b[39m\"\u001b[39m\u001b[39mCan only use .str accessor with string values!\u001b[39m\u001b[39m\"\u001b[39m)\n\u001b[0;32m    232\u001b[0m \u001b[39mreturn\u001b[39;00m inferred_dtype\n",
      "\u001b[1;31mAttributeError\u001b[0m: Can only use .str accessor with string values!"
     ]
    }
   ],
   "source": [
    "def data_cleanup_parquet(df):\n",
    "\n",
    "    df.dropna(how='all', axis=1, inplace=True) #drop empty cols\n",
    "\n",
    "    number_looking_strings = ['id', 'scrape_id', 'host_id']\n",
    "    for col in number_looking_strings:\n",
    "        df[col] = df[col].astype(\"string\")\n",
    "\n",
    "    df['host_response_rate'] = df['host_response_rate'].str.replace(\"%\",\"\").astype(float)/100 #previously a percentage as a string\n",
    "    df['host_acceptance_rate'] = df['host_acceptance_rate'].str.replace(\"%\",\"\").astype(float)/100 #previously a percentage as a string\n",
    "    df['price'] = df['price'].str.replace(r'[$,]',\"\").astype(float) #previosuly represented as a string\n",
    "\n",
    "    date_cols = ['last_scraped', 'host_since', 'calendar_last_scraped', 'first_review', 'last_review']\n",
    "    for col in date_cols:\n",
    "        df[col] = pd.to_datetime(df[col], format=r'%Y-%m-%d')\n",
    "\n",
    "    for col in df.columns:\n",
    "        if df[col][0] == \"f\" or df[col][0] == \"t\": #if first record is \"t\" or \"f\" we're going to convert to bool - still should spot check after just incase first record of bool is null\n",
    "            df[col] = df[col].str.replace(\"f\", \"0\").astype('string')\n",
    "            df[col] = df[col].str.replace(\"t\", \"1\").astype('string')\n",
    "            print(df[col])\n",
    "            try: ## int can't hold nulls so if the conversion fails due to a value error, convert to float instead\n",
    "                df[col] = df[col].astype(int)\n",
    "            except ValueError:\n",
    "                df[col] = df[col].astype(float)\n",
    "\n",
    "\n",
    "    remaining_string_cols = df.select_dtypes(include=[\"object\"]).columns #all remaining object columns are strings so I'm explicitly setting them to be\n",
    "    for col in remaining_string_cols:\n",
    "        df[col] = df[col].astype('string')\n",
    "\n",
    "    list_string_cols = ['host_verifications', 'amenities'] #these 2 columns are string lists so I'm converting them back to object just so I remember to handle them differently\n",
    "    for col in list_string_cols:\n",
    "        df[col] = df[col].astype('object')\n",
    "\n",
    "    return df\n",
    "\n",
    "df_clean = data_cleanup_parquet(df)"
   ]
  }
 ],
 "metadata": {
  "kernelspec": {
   "display_name": "Python 3.9.13 ('dsba6211')",
   "language": "python",
   "name": "python3"
  },
  "language_info": {
   "codemirror_mode": {
    "name": "ipython",
    "version": 3
   },
   "file_extension": ".py",
   "mimetype": "text/x-python",
   "name": "python",
   "nbconvert_exporter": "python",
   "pygments_lexer": "ipython3",
   "version": "3.9.13"
  },
  "orig_nbformat": 4,
  "vscode": {
   "interpreter": {
    "hash": "3ea8fa8956d992ba70cc0c3d26dd2ea41637f74128a30503a55d1c1a851a5824"
   }
  }
 },
 "nbformat": 4,
 "nbformat_minor": 2
}
