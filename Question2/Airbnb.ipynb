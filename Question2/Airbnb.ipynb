import numpy as np
import pandas as pd
import re
import seaborn as sns
import matplotlib.pyplot as plt
from matplotlib import font_manager
from shapely.geometry import Point #location
# %pylab inline
# %matplotlib inline

listings = pd.read_csv('listings.csv')

listings.info()

listings.head()

summary_listings = pd.read_csv('summary-listings.csv')

summary_listings.info()

summary_listings.describe()

summary_listings.head()

summary_listings.isnull().sum()/len(summary_listings)

len(summary_listings[summary_listings['price'] == 0])

len(summary_listings[summary_listings['host_name'] == 0])

summary_listings['price'].describe()

summary_listings['price'].hist()

summary_listings['neighbourhood'].unique()

data = summary_listings['neighbourhood'].value_counts().tolist()
a = summary_listings['neighbourhood'].unique()
plt.bar(x=a, height=data)

summary_listings['neighbourhood'].value_counts()

summary_listings['neighbourhood'].value_counts().index[0]

summary_listings.groupby('neighbourhood')['price'].describe()

import folium
from folium.plugins import HeatMap
m=folium.Map([40.7128,-74.0060],zoom_start=11)
HeatMap(summary_listings[['latitude','longitude']],radius=8,gradient={0.2:'blue',0.4:'purple',0.6:'orange',1.0:'red'}).add_to(m)
display(m)

# Display the location of the 300 most expensive listings with price and room type
import branca
import branca.colormap as cmp
Long=-86.5
Lat=36
private_room_data = summary_listings.sort_values(by=['price'], ascending=False).head(300)
prd = private_room_data
linear = cmp.LinearColormap(
    ['white', 'black'],
    vmin=np.log(prd['price'].min()), vmax=np.log(prd['price'].max())
)
#'Private room', 'Entire home/apt', 'Shared room', 'Hotel room'
color_dict = {
    'Private room': 'blue', 'Entire home/apt': 'red', 'Shared room': 'green', 'Hotel room':'purple'
    
}

mapdf1=folium.Map([Lat,Long],zoom_start=10)

for lat, lon, price, room_type, name in zip(prd.latitude, prd.longitude, prd.price, prd.room_type, prd.name):
    folium.Marker(location=[lat,lon], icon=folium.Icon(color=color_dict[room_type], icon_color=linear(np.log(price)), icon='home'), popup="%s\t$%d"%(name, price)).add_to(mapdf1)
mapdf1

summary_listings['room_type'].unique()

#See what types of houses are most popular
data = summary_listings['room_type'].value_counts().tolist()
a = summary_listings['room_type'].unique()
plt.bar(x=a, height=data)

summary_listings.groupby('room_type')['price'].describe()

summary_listings[['host_id','name']].groupby('host_id').count().sort_values(by='name', ascending=False)

summary_listings['minimum_nights'].describe()

summary_listings['minimum_nights'].hist(bins = 100, range=(0, 100), figsize=(20,16))

reviews = pd.read_csv('reviews.csv')
reviews.info()

reviews.head()

reviews['date'] = pd.to_datetime(reviews['date'],format='%Y/%m/%d')

reviews['weekday'] = reviews['date'].dt.weekday
reviews['month'] = reviews['date'].dt.month
reviews['year'] = reviews['date'].dt.year

n_reviews_year = reviews.groupby('year').size();
sns.barplot(x = n_reviews_year.index, y = n_reviews_year.values);
plt.show();

n_reviews_month = reviews.groupby('month').size();
sns.barplot(x = n_reviews_month.index, y = n_reviews_month.values);
plt.show();

n_reviews_week = reviews.groupby('weekday').size();
sns.barplot(x = n_reviews_week.index, y = n_reviews_week.values);
plt.show();

year_month_reviews = reviews.groupby(['year', 'month']).size().unstack('month').fillna(0);
# Plot (month-comment) line chart by month
fig, ax = plt.subplots(figsize=(20,10));
for index in year_month_reviews.index:
    series = year_month_reviews.loc[index];
    sns.lineplot(x = series.index, y = series.values, ax = ax);
ax.legend(labels = year_month_reviews.index);
ax.grid();
# Display all months on the horizontal axis
_ = ax.set_xticks(list(range(1,13)))
plt.show();

calendar = pd.read_csv('calendar.csv')
calendar.info()

calendar.head()

#Remove the $ sign from the price
calendar['price'] = calendar['price'].replace(r"[$,]","",regex=True).astype(np.float32)
calendar['adjusted_price'] = calendar['adjusted_price'].replace(r"[$,]","",regex = True).astype(np.float32)
calendar.head()

calendar['date'] = pd.to_datetime(calendar['date'],format='%Y/%m/%d')

#Add week and month
calendar['weekday'] = calendar['date'].dt.weekday
calendar['month'] = calendar['date'].dt.month

#Plot a histogram by grouping prices by month and averaging them:
month_price = calendar.groupby('month')['price'].mean()
sns.barplot(month_price.index,month_price.values)

weekday_price = calendar.groupby('weekday')['price'].mean()
sns.barplot(weekday_price.index, weekday_price.values)

#View histograms with prices less than 300
sns.displot(calendar[calendar['price'] < 300]['price'], kde = True)
plt.show()
