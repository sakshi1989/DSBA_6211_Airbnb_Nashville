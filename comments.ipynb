{
 "cells": [
  {
   "cell_type": "markdown",
   "metadata": {},
   "source": [
    "## This file is to prepare the final data for the use in Tableau"
   ]
  },
  {
   "cell_type": "code",
   "execution_count": 37,
   "metadata": {},
   "outputs": [],
   "source": [
    "import pandas as pd"
   ]
  },
  {
   "cell_type": "code",
   "execution_count": 68,
   "metadata": {},
   "outputs": [],
   "source": [
    "df_comments_entities = pd.read_parquet('data_after_processing/reviews_related_data/comments_with_entities.parquet')\n",
    "df_comments_sentiments = pd.read_csv('data_after_processing/reviews_related_data/comments_with_sentiments_imputed.csv')\n",
    "df_keyphrases = pd.read_parquet('data_after_processing/reviews_related_data/keyphrases_with_index.parquet')"
   ]
  },
  {
   "cell_type": "code",
   "execution_count": 69,
   "metadata": {},
   "outputs": [
    {
     "name": "stdout",
     "output_type": "stream",
     "text": [
      "(546736, 19)\n",
      "(546736, 15)\n",
      "(546736, 5)\n"
     ]
    }
   ],
   "source": [
    "print(df_comments_entities.shape)\n",
    "print(df_comments_sentiments.shape)\n",
    "print(df_keyphrases.shape)"
   ]
  },
  {
   "cell_type": "code",
   "execution_count": 70,
   "metadata": {},
   "outputs": [],
   "source": [
    "df_comments_final = pd.concat([\n",
    "    df_comments_entities[['listing_id', 'id', 'date', 'reviewer_id', 'reviewer_name', 'comments','clean_comments', 'keyphrases','cleaned_comments', 'expanded_clean_comments', 'sentences', 'entities']],\n",
    "    df_keyphrases.set_index('index')[['sentences_person', 'sentences_location', 'keyphrases_person','keyphrases_location']],\n",
    "    df_comments_sentiments[['roberta_neg', 'roberta_pos', 'roberta_neu']]\n",
    "], axis=1)"
   ]
  },
  {
   "cell_type": "code",
   "execution_count": 72,
   "metadata": {},
   "outputs": [
    {
     "name": "stdout",
     "output_type": "stream",
     "text": [
      "<class 'pandas.core.frame.DataFrame'>\n",
      "RangeIndex: 546736 entries, 0 to 546735\n",
      "Data columns (total 19 columns):\n",
      " #   Column                   Non-Null Count   Dtype  \n",
      "---  ------                   --------------   -----  \n",
      " 0   listing_id               546736 non-null  float64\n",
      " 1   id                       546736 non-null  float64\n",
      " 2   date                     546736 non-null  object \n",
      " 3   reviewer_id              546736 non-null  int64  \n",
      " 4   reviewer_name            546735 non-null  object \n",
      " 5   comments                 546736 non-null  object \n",
      " 6   clean_comments           546736 non-null  object \n",
      " 7   keyphrases               546736 non-null  object \n",
      " 8   cleaned_comments         546736 non-null  object \n",
      " 9   expanded_clean_comments  546736 non-null  object \n",
      " 10  sentences                546736 non-null  object \n",
      " 11  entities                 546736 non-null  object \n",
      " 12  sentences_person         546736 non-null  object \n",
      " 13  sentences_location       546736 non-null  object \n",
      " 14  keyphrases_person        546736 non-null  object \n",
      " 15  keyphrases_location      546736 non-null  object \n",
      " 16  roberta_neg              546736 non-null  float64\n",
      " 17  roberta_pos              546736 non-null  float64\n",
      " 18  roberta_neu              546736 non-null  float64\n",
      "dtypes: float64(5), int64(1), object(13)\n",
      "memory usage: 79.3+ MB\n"
     ]
    }
   ],
   "source": [
    "df_comments_final.info()"
   ]
  },
  {
   "cell_type": "code",
   "execution_count": 73,
   "metadata": {},
   "outputs": [],
   "source": [
    "# Changing float 64 to int64\n",
    "df_comments_final['listing_id'] = df_comments_final['listing_id'].astype('int64')\n",
    "df_comments_final['id'] = df_comments_final['id'].astype('int64')"
   ]
  },
  {
   "cell_type": "code",
   "execution_count": 81,
   "metadata": {},
   "outputs": [
    {
     "data": {
      "text/plain": [
       "709952316127237292"
      ]
     },
     "execution_count": 81,
     "metadata": {},
     "output_type": "execute_result"
    }
   ],
   "source": [
    "# Postfix the listing_id that were converted due to type conversions\n",
    "# This try to figure out the real listing ID from the original data based on reviewer name, comments and date\n",
    "df_original = pd.read_csv('./data_after_processing/reviews_related_data/processed_reviews.csv', parse_dates=['date'])\n",
    "df_original = df_original[df_original['listing_id'] > 54409066].copy()\n",
    "df_original['hash'] = df_original.apply(lambda x: hash(''.join([x['reviewer_name'], x['comments'], x['date'].strftime('%Y-%m-%d')])), axis=1)\n",
    "\n",
    "for index, row in df_comments_final[df_comments_final['listing_id'] > 54409066].iterrows():\n",
    "    h = hash(''.join([row['reviewer_name'], row['comments'], row['date']]))\n",
    "    original = df_original[df_original['hash'] == h]\n",
    "    if original.shape[0] > 0:\n",
    "        df_comments_final.loc[index, 'listing_id'] = original.iloc[0].listing_id\n",
    "        df_comments_final.loc[index, 'id'] = original.iloc[0].id\n",
    "\n",
    "df_comments_final.listing_id.max()"
   ]
  },
  {
   "cell_type": "code",
   "execution_count": 82,
   "metadata": {},
   "outputs": [],
   "source": [
    "df_comments_final.to_csv('data_after_processing/reviews_related_data/comments_final.csv', index=False)"
   ]
  },
  {
   "cell_type": "code",
   "execution_count": 83,
   "metadata": {},
   "outputs": [
    {
     "name": "stdout",
     "output_type": "stream",
     "text": [
      "<class 'pandas.core.frame.DataFrame'>\n",
      "RangeIndex: 546736 entries, 0 to 546735\n",
      "Data columns (total 19 columns):\n",
      " #   Column                   Non-Null Count   Dtype  \n",
      "---  ------                   --------------   -----  \n",
      " 0   listing_id               546736 non-null  int64  \n",
      " 1   id                       546736 non-null  int64  \n",
      " 2   date                     546736 non-null  object \n",
      " 3   reviewer_id              546736 non-null  int64  \n",
      " 4   reviewer_name            546735 non-null  object \n",
      " 5   comments                 546736 non-null  object \n",
      " 6   clean_comments           546736 non-null  object \n",
      " 7   keyphrases               546736 non-null  object \n",
      " 8   cleaned_comments         546736 non-null  object \n",
      " 9   expanded_clean_comments  546736 non-null  object \n",
      " 10  sentences                546736 non-null  object \n",
      " 11  entities                 546736 non-null  object \n",
      " 12  sentences_person         546736 non-null  object \n",
      " 13  sentences_location       546736 non-null  object \n",
      " 14  keyphrases_person        546736 non-null  object \n",
      " 15  keyphrases_location      546736 non-null  object \n",
      " 16  roberta_neg              546736 non-null  float64\n",
      " 17  roberta_pos              546736 non-null  float64\n",
      " 18  roberta_neu              546736 non-null  float64\n",
      "dtypes: float64(3), int64(3), object(13)\n",
      "memory usage: 79.3+ MB\n"
     ]
    }
   ],
   "source": [
    "df = df_comments_final.copy()\n",
    "df.shape\n",
    "df.info()"
   ]
  },
  {
   "cell_type": "code",
   "execution_count": 85,
   "metadata": {},
   "outputs": [
    {
     "data": {
      "text/html": [
       "<div>\n",
       "<style scoped>\n",
       "    .dataframe tbody tr th:only-of-type {\n",
       "        vertical-align: middle;\n",
       "    }\n",
       "\n",
       "    .dataframe tbody tr th {\n",
       "        vertical-align: top;\n",
       "    }\n",
       "\n",
       "    .dataframe thead th {\n",
       "        text-align: right;\n",
       "    }\n",
       "</style>\n",
       "<table border=\"1\" class=\"dataframe\">\n",
       "  <thead>\n",
       "    <tr style=\"text-align: right;\">\n",
       "      <th></th>\n",
       "      <th>listing_id</th>\n",
       "      <th>id</th>\n",
       "      <th>date</th>\n",
       "      <th>reviewer_id</th>\n",
       "      <th>reviewer_name</th>\n",
       "      <th>comments</th>\n",
       "      <th>clean_comments</th>\n",
       "      <th>keyphrases</th>\n",
       "      <th>cleaned_comments</th>\n",
       "      <th>expanded_clean_comments</th>\n",
       "      <th>sentences</th>\n",
       "      <th>entities</th>\n",
       "      <th>sentences_person</th>\n",
       "      <th>sentences_location</th>\n",
       "      <th>keyphrases_person</th>\n",
       "      <th>keyphrases_location</th>\n",
       "      <th>roberta_neg</th>\n",
       "      <th>roberta_pos</th>\n",
       "      <th>roberta_neu</th>\n",
       "    </tr>\n",
       "  </thead>\n",
       "  <tbody>\n",
       "    <tr>\n",
       "      <th>154364</th>\n",
       "      <td>3710914</td>\n",
       "      <td>115989408</td>\n",
       "      <td>2016-11-27</td>\n",
       "      <td>24562860</td>\n",
       "      <td>None</td>\n",
       "      <td>this house is amazing. My family really love t...</td>\n",
       "      <td>thi house be amaze my family really love thi c...</td>\n",
       "      <td>[[\"thi house\", 0.583], [\"nice house\", 0.5484],...</td>\n",
       "      <td>this house is amazing. my family really love t...</td>\n",
       "      <td>this house is amazing. my family really love t...</td>\n",
       "      <td>[{'end': 22, 'sentence': 'this house is amazin...</td>\n",
       "      <td>[]</td>\n",
       "      <td></td>\n",
       "      <td></td>\n",
       "      <td>[]</td>\n",
       "      <td>[]</td>\n",
       "      <td>0.001727</td>\n",
       "      <td>0.990759</td>\n",
       "      <td>0.007514</td>\n",
       "    </tr>\n",
       "  </tbody>\n",
       "</table>\n",
       "</div>"
      ],
      "text/plain": [
       "        listing_id         id        date  reviewer_id reviewer_name  \\\n",
       "154364     3710914  115989408  2016-11-27     24562860          None   \n",
       "\n",
       "                                                 comments  \\\n",
       "154364  this house is amazing. My family really love t...   \n",
       "\n",
       "                                           clean_comments  \\\n",
       "154364  thi house be amaze my family really love thi c...   \n",
       "\n",
       "                                               keyphrases  \\\n",
       "154364  [[\"thi house\", 0.583], [\"nice house\", 0.5484],...   \n",
       "\n",
       "                                         cleaned_comments  \\\n",
       "154364  this house is amazing. my family really love t...   \n",
       "\n",
       "                                  expanded_clean_comments  \\\n",
       "154364  this house is amazing. my family really love t...   \n",
       "\n",
       "                                                sentences entities  \\\n",
       "154364  [{'end': 22, 'sentence': 'this house is amazin...       []   \n",
       "\n",
       "       sentences_person sentences_location keyphrases_person  \\\n",
       "154364                                                    []   \n",
       "\n",
       "       keyphrases_location  roberta_neg  roberta_pos  roberta_neu  \n",
       "154364                  []     0.001727     0.990759     0.007514  "
      ]
     },
     "execution_count": 85,
     "metadata": {},
     "output_type": "execute_result"
    }
   ],
   "source": [
    "df[df.isnull().any(axis=1)]\n"
   ]
  },
  {
   "cell_type": "markdown",
   "metadata": {},
   "source": [
    "# Grouped keyphrases data by listing\n",
    "\n",
    "* Keyphrases with frequency"
   ]
  },
  {
   "cell_type": "code",
   "execution_count": 121,
   "metadata": {},
   "outputs": [],
   "source": [
    "# Impute empty person/location keyphrase with overall keyphrase\n",
    "from ast import literal_eval\n",
    "import numpy as np\n",
    "\n",
    "def impute_person(row):\n",
    "    if row['keyphrases_person'].shape[0] == 0:\n",
    "        return np.array([x[0] for x in literal_eval(row['keyphrases'])])\n",
    "    return row['keyphrases_person']\n",
    "\n",
    "def impute_location(row):\n",
    "    if row['keyphrases_location'].shape[0] == 0:\n",
    "        return np.array([x[0] for x in literal_eval(row['keyphrases'])])\n",
    "    return row['keyphrases_location']\n",
    "\n",
    "df['keyphrases_person'] = df.apply(impute_person, axis=1)\n",
    "df['keyphrases_location'] = df.apply(impute_location, axis=1)"
   ]
  },
  {
   "cell_type": "code",
   "execution_count": 123,
   "metadata": {},
   "outputs": [],
   "source": [
    "def list_concat(s):\n",
    "    a = s.explode().dropna().reset_index(drop=True).tolist()\n",
    "    return a\n",
    "\n",
    "df_listing_keyphrases = df.groupby('listing_id').agg({\n",
    "    'keyphrases_person': list_concat,\n",
    "    'keyphrases_location': list_concat\n",
    "})"
   ]
  },
  {
   "cell_type": "code",
   "execution_count": 124,
   "metadata": {},
   "outputs": [],
   "source": [
    "# Generate CSV with keyphrase frequency\n",
    "df_listing_person_keyphrase = df_listing_keyphrases[['keyphrases_person']].explode(column='keyphrases_person').reset_index().value_counts().to_frame('counts')\n",
    "df_listing_person_keyphrase.to_csv('data_after_processing/reviews_related_data/listings_person_keyphrase.csv')"
   ]
  },
  {
   "cell_type": "code",
   "execution_count": 125,
   "metadata": {},
   "outputs": [],
   "source": [
    "# Generate CSV with keyphrase frequency\n",
    "df_listing_location_keyphrase = df_listing_keyphrases[['keyphrases_location']].explode(column='keyphrases_location').reset_index().value_counts().to_frame('counts')\n",
    "df_listing_location_keyphrase.to_csv('data_after_processing/reviews_related_data/listings_location_keyphrase.csv')"
   ]
  }
 ],
 "metadata": {
  "kernelspec": {
   "display_name": "Python 3.10.4 ('venv': venv)",
   "language": "python",
   "name": "python3"
  },
  "language_info": {
   "codemirror_mode": {
    "name": "ipython",
    "version": 3
   },
   "file_extension": ".py",
   "mimetype": "text/x-python",
   "name": "python",
   "nbconvert_exporter": "python",
   "pygments_lexer": "ipython3",
   "version": "3.10.4"
  },
  "orig_nbformat": 4,
  "vscode": {
   "interpreter": {
    "hash": "07de844f12b7ce505123c8a0011b27c4c32b306011201dd41064d4acde3c4bc3"
   }
  }
 },
 "nbformat": 4,
 "nbformat_minor": 2
}
