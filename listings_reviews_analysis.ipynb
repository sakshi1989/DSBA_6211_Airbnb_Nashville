{
 "cells": [
  {
   "cell_type": "code",
   "execution_count": 50,
   "metadata": {},
   "outputs": [],
   "source": [
    "import pandas as pd\n",
    "import numpy as np"
   ]
  },
  {
   "cell_type": "code",
   "execution_count": 51,
   "metadata": {},
   "outputs": [],
   "source": [
    "# Get the column names\n",
    "headers = [*pd.read_csv('./data/2021-12-17/listings1.csv', nrows=1)]\n",
    "# List to contain column names to parse\n",
    "dates_to_parse = ['last_scraped','host_since','calendar_last_scraped','first_review','last_review']\n",
    "#Load individual listing files\n",
    "df1 = pd.read_csv(\"./data/2021-12-17/listings1.csv\", parse_dates=dates_to_parse)\n",
    "df1['scrape_date'] = '2021-12-17'\n",
    "\n",
    "df2 = pd.read_csv(\"./data/2022-03-20/listings2.csv\", parse_dates=dates_to_parse)\n",
    "df2['scrape_date'] = '2022-03-20'\n",
    "\n",
    "df3 = pd.read_csv(\"./data/2022-06-13/listings3.csv\", parse_dates=dates_to_parse)\n",
    "df3['scrape_date'] = '2022-06-13'\n",
    "\n",
    "# The source column is extra in this file. So just retrieve the columns that were listed in earlier scrapes\n",
    "df4 = pd.read_csv(\"./data/2022-09-15/listings4.csv\", usecols= [col for col in headers], parse_dates=dates_to_parse)\n",
    "df4['scrape_date'] = '2022-09-15'\n",
    "\n",
    "# Merge all the dataframe\n",
    "df_listings = pd.concat([\n",
    "    df1 , df2, df3,df4\n",
    "], axis = 0, ignore_index=True)"
   ]
  },
  {
   "cell_type": "code",
   "execution_count": 52,
   "metadata": {},
   "outputs": [
    {
     "name": "stdout",
     "output_type": "stream",
     "text": [
      "(28135, 75)\n"
     ]
    },
    {
     "data": {
      "text/html": [
       "<div>\n",
       "<style scoped>\n",
       "    .dataframe tbody tr th:only-of-type {\n",
       "        vertical-align: middle;\n",
       "    }\n",
       "\n",
       "    .dataframe tbody tr th {\n",
       "        vertical-align: top;\n",
       "    }\n",
       "\n",
       "    .dataframe thead th {\n",
       "        text-align: right;\n",
       "    }\n",
       "</style>\n",
       "<table border=\"1\" class=\"dataframe\">\n",
       "  <thead>\n",
       "    <tr style=\"text-align: right;\">\n",
       "      <th></th>\n",
       "      <th>id</th>\n",
       "      <th>listing_url</th>\n",
       "      <th>scrape_id</th>\n",
       "      <th>last_scraped</th>\n",
       "      <th>name</th>\n",
       "      <th>description</th>\n",
       "      <th>neighborhood_overview</th>\n",
       "      <th>picture_url</th>\n",
       "      <th>host_id</th>\n",
       "      <th>host_url</th>\n",
       "      <th>...</th>\n",
       "      <th>review_scores_location</th>\n",
       "      <th>review_scores_value</th>\n",
       "      <th>license</th>\n",
       "      <th>instant_bookable</th>\n",
       "      <th>calculated_host_listings_count</th>\n",
       "      <th>calculated_host_listings_count_entire_homes</th>\n",
       "      <th>calculated_host_listings_count_private_rooms</th>\n",
       "      <th>calculated_host_listings_count_shared_rooms</th>\n",
       "      <th>reviews_per_month</th>\n",
       "      <th>scrape_date</th>\n",
       "    </tr>\n",
       "  </thead>\n",
       "  <tbody>\n",
       "    <tr>\n",
       "      <th>28130</th>\n",
       "      <td>583169313478293083</td>\n",
       "      <td>https://www.airbnb.com/rooms/583169313478293083</td>\n",
       "      <td>20220915162211</td>\n",
       "      <td>2022-09-16</td>\n",
       "      <td>Stylish condo minutes from Music City Nashville</td>\n",
       "      <td>This bright, stylish residential condo is the ...</td>\n",
       "      <td>NaN</td>\n",
       "      <td>https://a0.muscache.com/pictures/miso/Hosting-...</td>\n",
       "      <td>358890755</td>\n",
       "      <td>https://www.airbnb.com/users/show/358890755</td>\n",
       "      <td>...</td>\n",
       "      <td>4.38</td>\n",
       "      <td>4.75</td>\n",
       "      <td>NaN</td>\n",
       "      <td>t</td>\n",
       "      <td>1</td>\n",
       "      <td>1</td>\n",
       "      <td>0</td>\n",
       "      <td>0</td>\n",
       "      <td>1.42</td>\n",
       "      <td>2022-09-15</td>\n",
       "    </tr>\n",
       "    <tr>\n",
       "      <th>28131</th>\n",
       "      <td>36750124</td>\n",
       "      <td>https://www.airbnb.com/rooms/36750124</td>\n",
       "      <td>20220915162211</td>\n",
       "      <td>2022-09-15</td>\n",
       "      <td>Hermitage monthly or longer/2 people max cozy ...</td>\n",
       "      <td>Nashville/Hermitage, Close to AIRPORT, Cute an...</td>\n",
       "      <td>10 minutes to lakes, marinas, outdoor events. ...</td>\n",
       "      <td>https://a0.muscache.com/pictures/b5741753-9636...</td>\n",
       "      <td>232237589</td>\n",
       "      <td>https://www.airbnb.com/users/show/232237589</td>\n",
       "      <td>...</td>\n",
       "      <td>5.00</td>\n",
       "      <td>5.00</td>\n",
       "      <td>NaN</td>\n",
       "      <td>f</td>\n",
       "      <td>3</td>\n",
       "      <td>2</td>\n",
       "      <td>0</td>\n",
       "      <td>1</td>\n",
       "      <td>0.09</td>\n",
       "      <td>2022-09-15</td>\n",
       "    </tr>\n",
       "    <tr>\n",
       "      <th>28132</th>\n",
       "      <td>48625334</td>\n",
       "      <td>https://www.airbnb.com/rooms/48625334</td>\n",
       "      <td>20220915162211</td>\n",
       "      <td>2022-09-16</td>\n",
       "      <td>A spacious and updated 3 bed 2 1/2 townhome!</td>\n",
       "      <td>A spacious 3 bed 2 1/2 bath townhome in La Ver...</td>\n",
       "      <td>NaN</td>\n",
       "      <td>https://a0.muscache.com/pictures/fb28f289-0ff2...</td>\n",
       "      <td>366156295</td>\n",
       "      <td>https://www.airbnb.com/users/show/366156295</td>\n",
       "      <td>...</td>\n",
       "      <td>4.69</td>\n",
       "      <td>4.86</td>\n",
       "      <td>NaN</td>\n",
       "      <td>t</td>\n",
       "      <td>1</td>\n",
       "      <td>1</td>\n",
       "      <td>0</td>\n",
       "      <td>0</td>\n",
       "      <td>8.42</td>\n",
       "      <td>2022-09-15</td>\n",
       "    </tr>\n",
       "    <tr>\n",
       "      <th>28133</th>\n",
       "      <td>648366484239998665</td>\n",
       "      <td>https://www.airbnb.com/rooms/648366484239998665</td>\n",
       "      <td>20220915162211</td>\n",
       "      <td>2022-09-16</td>\n",
       "      <td>1 bedroom Home 25min to downtown Nashville</td>\n",
       "      <td>Take a break and unwind at this peaceful oasis...</td>\n",
       "      <td>NaN</td>\n",
       "      <td>https://a0.muscache.com/pictures/a322e82e-ebcc...</td>\n",
       "      <td>12151120</td>\n",
       "      <td>https://www.airbnb.com/users/show/12151120</td>\n",
       "      <td>...</td>\n",
       "      <td>3.50</td>\n",
       "      <td>4.50</td>\n",
       "      <td>NaN</td>\n",
       "      <td>f</td>\n",
       "      <td>2</td>\n",
       "      <td>1</td>\n",
       "      <td>1</td>\n",
       "      <td>0</td>\n",
       "      <td>0.72</td>\n",
       "      <td>2022-09-15</td>\n",
       "    </tr>\n",
       "    <tr>\n",
       "      <th>28134</th>\n",
       "      <td>8105862</td>\n",
       "      <td>https://www.airbnb.com/rooms/8105862</td>\n",
       "      <td>20220915162211</td>\n",
       "      <td>2022-09-16</td>\n",
       "      <td>Private bedroom and bath 25 min drive to downtown</td>\n",
       "      <td>Forget your worries in this spacious and seren...</td>\n",
       "      <td>NaN</td>\n",
       "      <td>https://a0.muscache.com/pictures/5a7735ee-4d9a...</td>\n",
       "      <td>12151120</td>\n",
       "      <td>https://www.airbnb.com/users/show/12151120</td>\n",
       "      <td>...</td>\n",
       "      <td>4.78</td>\n",
       "      <td>4.78</td>\n",
       "      <td>NaN</td>\n",
       "      <td>f</td>\n",
       "      <td>2</td>\n",
       "      <td>1</td>\n",
       "      <td>1</td>\n",
       "      <td>0</td>\n",
       "      <td>1.62</td>\n",
       "      <td>2022-09-15</td>\n",
       "    </tr>\n",
       "  </tbody>\n",
       "</table>\n",
       "<p>5 rows × 75 columns</p>\n",
       "</div>"
      ],
      "text/plain": [
       "                       id                                      listing_url  \\\n",
       "28130  583169313478293083  https://www.airbnb.com/rooms/583169313478293083   \n",
       "28131            36750124            https://www.airbnb.com/rooms/36750124   \n",
       "28132            48625334            https://www.airbnb.com/rooms/48625334   \n",
       "28133  648366484239998665  https://www.airbnb.com/rooms/648366484239998665   \n",
       "28134             8105862             https://www.airbnb.com/rooms/8105862   \n",
       "\n",
       "            scrape_id last_scraped  \\\n",
       "28130  20220915162211   2022-09-16   \n",
       "28131  20220915162211   2022-09-15   \n",
       "28132  20220915162211   2022-09-16   \n",
       "28133  20220915162211   2022-09-16   \n",
       "28134  20220915162211   2022-09-16   \n",
       "\n",
       "                                                    name  \\\n",
       "28130    Stylish condo minutes from Music City Nashville   \n",
       "28131  Hermitage monthly or longer/2 people max cozy ...   \n",
       "28132       A spacious and updated 3 bed 2 1/2 townhome!   \n",
       "28133         1 bedroom Home 25min to downtown Nashville   \n",
       "28134  Private bedroom and bath 25 min drive to downtown   \n",
       "\n",
       "                                             description  \\\n",
       "28130  This bright, stylish residential condo is the ...   \n",
       "28131  Nashville/Hermitage, Close to AIRPORT, Cute an...   \n",
       "28132  A spacious 3 bed 2 1/2 bath townhome in La Ver...   \n",
       "28133  Take a break and unwind at this peaceful oasis...   \n",
       "28134  Forget your worries in this spacious and seren...   \n",
       "\n",
       "                                   neighborhood_overview  \\\n",
       "28130                                                NaN   \n",
       "28131  10 minutes to lakes, marinas, outdoor events. ...   \n",
       "28132                                                NaN   \n",
       "28133                                                NaN   \n",
       "28134                                                NaN   \n",
       "\n",
       "                                             picture_url    host_id  \\\n",
       "28130  https://a0.muscache.com/pictures/miso/Hosting-...  358890755   \n",
       "28131  https://a0.muscache.com/pictures/b5741753-9636...  232237589   \n",
       "28132  https://a0.muscache.com/pictures/fb28f289-0ff2...  366156295   \n",
       "28133  https://a0.muscache.com/pictures/a322e82e-ebcc...   12151120   \n",
       "28134  https://a0.muscache.com/pictures/5a7735ee-4d9a...   12151120   \n",
       "\n",
       "                                          host_url  ...  \\\n",
       "28130  https://www.airbnb.com/users/show/358890755  ...   \n",
       "28131  https://www.airbnb.com/users/show/232237589  ...   \n",
       "28132  https://www.airbnb.com/users/show/366156295  ...   \n",
       "28133   https://www.airbnb.com/users/show/12151120  ...   \n",
       "28134   https://www.airbnb.com/users/show/12151120  ...   \n",
       "\n",
       "      review_scores_location review_scores_value license instant_bookable  \\\n",
       "28130                   4.38                4.75     NaN                t   \n",
       "28131                   5.00                5.00     NaN                f   \n",
       "28132                   4.69                4.86     NaN                t   \n",
       "28133                   3.50                4.50     NaN                f   \n",
       "28134                   4.78                4.78     NaN                f   \n",
       "\n",
       "      calculated_host_listings_count  \\\n",
       "28130                              1   \n",
       "28131                              3   \n",
       "28132                              1   \n",
       "28133                              2   \n",
       "28134                              2   \n",
       "\n",
       "      calculated_host_listings_count_entire_homes  \\\n",
       "28130                                           1   \n",
       "28131                                           2   \n",
       "28132                                           1   \n",
       "28133                                           1   \n",
       "28134                                           1   \n",
       "\n",
       "      calculated_host_listings_count_private_rooms  \\\n",
       "28130                                            0   \n",
       "28131                                            0   \n",
       "28132                                            0   \n",
       "28133                                            1   \n",
       "28134                                            1   \n",
       "\n",
       "      calculated_host_listings_count_shared_rooms reviews_per_month  \\\n",
       "28130                                           0              1.42   \n",
       "28131                                           1              0.09   \n",
       "28132                                           0              8.42   \n",
       "28133                                           0              0.72   \n",
       "28134                                           0              1.62   \n",
       "\n",
       "      scrape_date  \n",
       "28130  2022-09-15  \n",
       "28131  2022-09-15  \n",
       "28132  2022-09-15  \n",
       "28133  2022-09-15  \n",
       "28134  2022-09-15  \n",
       "\n",
       "[5 rows x 75 columns]"
      ]
     },
     "execution_count": 52,
     "metadata": {},
     "output_type": "execute_result"
    }
   ],
   "source": [
    "print(df_listings.shape)\n",
    "df_listings.tail()"
   ]
  },
  {
   "cell_type": "code",
   "execution_count": 53,
   "metadata": {},
   "outputs": [],
   "source": [
    "# Get the calendar data\n",
    "calendar_df1 = pd.read_csv(\"./data/2021-12-17/calendar1.csv\", parse_dates=['date'])\n",
    "calendar_df1['scrape_date'] = '2021-12-17'\n",
    "\n",
    "calendar_df2 = pd.read_csv(\"./data/2022-03-20/calendar2.csv\", parse_dates=['date'])\n",
    "calendar_df2['scrape_date'] = '2022-03-20'\n",
    "\n",
    "calendar_df3 = pd.read_csv(\"./data/2022-06-13/calendar3.csv\", parse_dates=['date'])\n",
    "calendar_df3['scrape_date'] = '2022-06-13'\n",
    "\n",
    "# The source column is extra in this file. So just retrieve the columns that were listed in earlier scrapes\n",
    "calendar_df4 = pd.read_csv(\"./data/2022-09-15/calendar4.csv\", parse_dates=['date'])\n",
    "calendar_df4['scrape_date'] = '2022-09-15'"
   ]
  },
  {
   "cell_type": "code",
   "execution_count": 54,
   "metadata": {},
   "outputs": [
    {
     "data": {
      "text/plain": [
       "[]"
      ]
     },
     "execution_count": 54,
     "metadata": {},
     "output_type": "execute_result"
    }
   ],
   "source": [
    "# Get the column names that have no values in it\n",
    "s_null_values = round(df_listings.isnull().sum() * 100 / df_listings.shape[0])\n",
    "cols_with_no_values = s_null_values[s_null_values == 100].index.tolist()\n",
    "\n",
    "# Get the columns that have only one unique value after removing nan's\n",
    "cols_with_one_uniq = []\n",
    "df_temp = df_listings.drop(columns = cols_with_no_values)\n",
    "\n",
    "for col in df_temp.columns:\n",
    "    list_tmp = df_temp[col].unique().tolist()\n",
    "    list_tmp = [i for i in list_tmp if not i is np.nan]     \n",
    "    if len(list_tmp) == 1:\n",
    "        cols_with_one_uniq.append(col)\n",
    "cols_with_one_uniq"
   ]
  },
  {
   "cell_type": "code",
   "execution_count": 55,
   "metadata": {},
   "outputs": [],
   "source": [
    "# These columns either do not have any values or will not be useful or will not be useful right now\n",
    "cols_to_drop = ['listing_url','scrape_id','last_scraped','host_url','host_thumbnail_url','host_picture_url','host_has_profile_pic','price','minimum_minimum_nights','maximum_minimum_nights'\\\n",
    "                ,'minimum_maximum_nights','maximum_maximum_nights','minimum_nights_avg_ntm','maximum_nights_avg_ntm','calendar_last_scraped'\\\n",
    "                ,'number_of_reviews_ltm','number_of_reviews_l30d','first_review','last_review'\\\n",
    "                ,'calculated_host_listings_count','calculated_host_listings_count_entire_homes','calculated_host_listings_count_private_rooms','calculated_host_listings_count_shared_rooms','reviews_per_month']\\\n",
    "                + cols_with_no_values\n",
    "df_work_listings = df_listings.drop(columns = cols_to_drop).copy()"
   ]
  },
  {
   "cell_type": "code",
   "execution_count": 56,
   "metadata": {},
   "outputs": [
    {
     "data": {
      "text/plain": [
       "(9610, 26)"
      ]
     },
     "execution_count": 56,
     "metadata": {},
     "output_type": "execute_result"
    }
   ],
   "source": [
    "# List Columns whose values that will change over time\n",
    "cols_change_with_time = ['host_response_time','host_response_rate','host_acceptance_rate','host_is_superhost','host_listings_count','host_total_listings_count','amenities','has_availability'\\\n",
    "                            ,'availability_30','availability_60','availability_90','availability_365','number_of_reviews','review_scores_rating','review_scores_accuracy','review_scores_cleanliness'\\\n",
    "                            , 'review_scores_checkin','review_scores_communication','review_scores_location','review_scores_value','instant_bookable'\n",
    "                        ]\n",
    "# Create the dataframe with general information of the listings. Take the listings from the latest scrape to have latest info\n",
    "df_listing_geninfo = df_work_listings.loc[:,~df_work_listings.columns.isin(cols_change_with_time)].copy()\n",
    "# drop duplicates & keep the latest\n",
    "df_listing_geninfo = df_listing_geninfo.sort_values(by = 'scrape_date', ascending=False).drop_duplicates(subset = 'id')\n",
    "df_listing_geninfo.shape"
   ]
  },
  {
   "cell_type": "code",
   "execution_count": 57,
   "metadata": {},
   "outputs": [],
   "source": [
    "# Function to define the quarter\n",
    "def assign_quater(x):\n",
    "    if x == '2021-12-17':\n",
    "        y = 'Q1'\n",
    "    elif x == '2022-03-20':\n",
    "        y = 'Q2'\n",
    "    elif x == '2022-06-13':\n",
    "        y = 'Q3'\n",
    "    else:\n",
    "        y = 'Q4'\n",
    "    return y"
   ]
  },
  {
   "cell_type": "code",
   "execution_count": 58,
   "metadata": {},
   "outputs": [
    {
     "data": {
      "text/plain": [
       "(28135, 48)"
      ]
     },
     "execution_count": 58,
     "metadata": {},
     "output_type": "execute_result"
    }
   ],
   "source": [
    "# Create a dataframe for the columns of the listings that might change at each scrape \n",
    "df_final_listing = df_work_listings.loc[:,df_work_listings.columns.isin(cols_change_with_time + ['id','scrape_date'])].copy()\n",
    "# Assign the quarter\n",
    "df_final_listing['quarter'] = df_final_listing['scrape_date'].apply(assign_quater)\n",
    "\n",
    "# Join final dataframe with general info dataframe\n",
    "df_final_listing = df_final_listing.merge(df_listing_geninfo, how = 'left', on = ['id'])\n",
    "df_final_listing.drop(columns='scrape_date_y', inplace = True)\n",
    "df_final_listing.rename(columns = {'scrape_date_x' : 'scrape_date'}, inplace = True)\n",
    "df_final_listing.shape"
   ]
  },
  {
   "cell_type": "code",
   "execution_count": 59,
   "metadata": {},
   "outputs": [
    {
     "name": "stdout",
     "output_type": "stream",
     "text": [
      "<class 'pandas.core.frame.DataFrame'>\n",
      "Int64Index: 28135 entries, 0 to 28134\n",
      "Data columns (total 48 columns):\n",
      " #   Column                       Non-Null Count  Dtype         \n",
      "---  ------                       --------------  -----         \n",
      " 0   id                           28135 non-null  int64         \n",
      " 1   host_response_time           25142 non-null  object        \n",
      " 2   host_response_rate           25142 non-null  object        \n",
      " 3   host_acceptance_rate         25843 non-null  object        \n",
      " 4   host_is_superhost            27893 non-null  object        \n",
      " 5   host_listings_count          27814 non-null  float64       \n",
      " 6   host_total_listings_count    27814 non-null  float64       \n",
      " 7   amenities                    28135 non-null  object        \n",
      " 8   has_availability             28135 non-null  object        \n",
      " 9   availability_30              28135 non-null  int64         \n",
      " 10  availability_60              28135 non-null  int64         \n",
      " 11  availability_90              28135 non-null  int64         \n",
      " 12  availability_365             28135 non-null  int64         \n",
      " 13  number_of_reviews            28135 non-null  int64         \n",
      " 14  review_scores_rating         24738 non-null  float64       \n",
      " 15  review_scores_accuracy       24692 non-null  float64       \n",
      " 16  review_scores_cleanliness    24692 non-null  float64       \n",
      " 17  review_scores_checkin        24688 non-null  float64       \n",
      " 18  review_scores_communication  24692 non-null  float64       \n",
      " 19  review_scores_location       24688 non-null  float64       \n",
      " 20  review_scores_value          24688 non-null  float64       \n",
      " 21  instant_bookable             28135 non-null  object        \n",
      " 22  scrape_date                  28135 non-null  object        \n",
      " 23  quarter                      28135 non-null  object        \n",
      " 24  name                         28134 non-null  object        \n",
      " 25  description                  27972 non-null  object        \n",
      " 26  neighborhood_overview        20257 non-null  object        \n",
      " 27  picture_url                  28135 non-null  object        \n",
      " 28  host_id                      28135 non-null  int64         \n",
      " 29  host_name                    27762 non-null  object        \n",
      " 30  host_since                   27762 non-null  datetime64[ns]\n",
      " 31  host_location                24504 non-null  object        \n",
      " 32  host_about                   19506 non-null  object        \n",
      " 33  host_neighbourhood           18339 non-null  object        \n",
      " 34  host_verifications           28135 non-null  object        \n",
      " 35  host_identity_verified       27762 non-null  object        \n",
      " 36  neighbourhood                20257 non-null  object        \n",
      " 37  neighbourhood_cleansed       28135 non-null  object        \n",
      " 38  latitude                     28135 non-null  float64       \n",
      " 39  longitude                    28135 non-null  float64       \n",
      " 40  property_type                28135 non-null  object        \n",
      " 41  room_type                    28135 non-null  object        \n",
      " 42  accommodates                 28135 non-null  int64         \n",
      " 43  bathrooms_text               28120 non-null  object        \n",
      " 44  bedrooms                     26846 non-null  float64       \n",
      " 45  beds                         27979 non-null  float64       \n",
      " 46  minimum_nights               28135 non-null  int64         \n",
      " 47  maximum_nights               28135 non-null  int64         \n",
      "dtypes: datetime64[ns](1), float64(13), int64(10), object(24)\n",
      "memory usage: 10.5+ MB\n"
     ]
    }
   ],
   "source": [
    "df_final_listing.info()"
   ]
  },
  {
   "cell_type": "code",
   "execution_count": 60,
   "metadata": {},
   "outputs": [
    {
     "data": {
      "text/html": [
       "<div>\n",
       "<style scoped>\n",
       "    .dataframe tbody tr th:only-of-type {\n",
       "        vertical-align: middle;\n",
       "    }\n",
       "\n",
       "    .dataframe tbody tr th {\n",
       "        vertical-align: top;\n",
       "    }\n",
       "\n",
       "    .dataframe thead th {\n",
       "        text-align: right;\n",
       "    }\n",
       "</style>\n",
       "<table border=\"1\" class=\"dataframe\">\n",
       "  <thead>\n",
       "    <tr style=\"text-align: right;\">\n",
       "      <th></th>\n",
       "      <th>id</th>\n",
       "      <th>host_response_time</th>\n",
       "      <th>host_response_rate</th>\n",
       "      <th>host_acceptance_rate</th>\n",
       "      <th>host_is_superhost</th>\n",
       "      <th>host_listings_count</th>\n",
       "      <th>host_total_listings_count</th>\n",
       "      <th>amenities</th>\n",
       "      <th>has_availability</th>\n",
       "      <th>availability_30</th>\n",
       "      <th>...</th>\n",
       "      <th>latitude</th>\n",
       "      <th>longitude</th>\n",
       "      <th>property_type</th>\n",
       "      <th>room_type</th>\n",
       "      <th>accommodates</th>\n",
       "      <th>bathrooms_text</th>\n",
       "      <th>bedrooms</th>\n",
       "      <th>beds</th>\n",
       "      <th>minimum_nights</th>\n",
       "      <th>maximum_nights</th>\n",
       "    </tr>\n",
       "  </thead>\n",
       "  <tbody>\n",
       "    <tr>\n",
       "      <th>0</th>\n",
       "      <td>6422</td>\n",
       "      <td>within a few hours</td>\n",
       "      <td>100%</td>\n",
       "      <td>0%</td>\n",
       "      <td>t</td>\n",
       "      <td>0.0</td>\n",
       "      <td>0.0</td>\n",
       "      <td>[\"Microwave\", \"Wifi\", \"Lock on bedroom door\", ...</td>\n",
       "      <td>t</td>\n",
       "      <td>0</td>\n",
       "      <td>...</td>\n",
       "      <td>36.17315</td>\n",
       "      <td>-86.73581</td>\n",
       "      <td>Private room in home</td>\n",
       "      <td>Private room</td>\n",
       "      <td>2</td>\n",
       "      <td>1 private bath</td>\n",
       "      <td>2.0</td>\n",
       "      <td>3.0</td>\n",
       "      <td>30</td>\n",
       "      <td>365</td>\n",
       "    </tr>\n",
       "    <tr>\n",
       "      <th>1</th>\n",
       "      <td>39870</td>\n",
       "      <td>within a few hours</td>\n",
       "      <td>100%</td>\n",
       "      <td>54%</td>\n",
       "      <td>t</td>\n",
       "      <td>2.0</td>\n",
       "      <td>2.0</td>\n",
       "      <td>[\"Microwave\", \"Keypad\", \"Wifi\", \"Essentials\", ...</td>\n",
       "      <td>t</td>\n",
       "      <td>8</td>\n",
       "      <td>...</td>\n",
       "      <td>36.12523</td>\n",
       "      <td>-86.81278</td>\n",
       "      <td>Private room in home</td>\n",
       "      <td>Private room</td>\n",
       "      <td>2</td>\n",
       "      <td>1 private bath</td>\n",
       "      <td>1.0</td>\n",
       "      <td>1.0</td>\n",
       "      <td>1</td>\n",
       "      <td>1125</td>\n",
       "    </tr>\n",
       "    <tr>\n",
       "      <th>2</th>\n",
       "      <td>72906</td>\n",
       "      <td>within an hour</td>\n",
       "      <td>100%</td>\n",
       "      <td>100%</td>\n",
       "      <td>t</td>\n",
       "      <td>1.0</td>\n",
       "      <td>1.0</td>\n",
       "      <td>[\"Microwave\", \"Essentials\", \"Refrigerator\", \"H...</td>\n",
       "      <td>t</td>\n",
       "      <td>2</td>\n",
       "      <td>...</td>\n",
       "      <td>36.13122</td>\n",
       "      <td>-86.80066</td>\n",
       "      <td>Entire rental unit</td>\n",
       "      <td>Entire home/apt</td>\n",
       "      <td>2</td>\n",
       "      <td>1 bath</td>\n",
       "      <td>2.0</td>\n",
       "      <td>2.0</td>\n",
       "      <td>2</td>\n",
       "      <td>7</td>\n",
       "    </tr>\n",
       "    <tr>\n",
       "      <th>3</th>\n",
       "      <td>258817</td>\n",
       "      <td>within an hour</td>\n",
       "      <td>100%</td>\n",
       "      <td>46%</td>\n",
       "      <td>t</td>\n",
       "      <td>13.0</td>\n",
       "      <td>13.0</td>\n",
       "      <td>[\"Microwave\", \"Keypad\", \"Wifi\", \"Essentials\", ...</td>\n",
       "      <td>t</td>\n",
       "      <td>19</td>\n",
       "      <td>...</td>\n",
       "      <td>36.16249</td>\n",
       "      <td>-86.58988</td>\n",
       "      <td>Private room in home</td>\n",
       "      <td>Private room</td>\n",
       "      <td>2</td>\n",
       "      <td>1 private bath</td>\n",
       "      <td>1.0</td>\n",
       "      <td>2.0</td>\n",
       "      <td>30</td>\n",
       "      <td>365</td>\n",
       "    </tr>\n",
       "    <tr>\n",
       "      <th>4</th>\n",
       "      <td>289242</td>\n",
       "      <td>within an hour</td>\n",
       "      <td>100%</td>\n",
       "      <td>46%</td>\n",
       "      <td>t</td>\n",
       "      <td>13.0</td>\n",
       "      <td>13.0</td>\n",
       "      <td>[\"Microwave\", \"Keypad\", \"Wifi\", \"Essentials\", ...</td>\n",
       "      <td>t</td>\n",
       "      <td>19</td>\n",
       "      <td>...</td>\n",
       "      <td>36.16102</td>\n",
       "      <td>-86.59207</td>\n",
       "      <td>Private room in home</td>\n",
       "      <td>Private room</td>\n",
       "      <td>1</td>\n",
       "      <td>1 shared bath</td>\n",
       "      <td>1.0</td>\n",
       "      <td>3.0</td>\n",
       "      <td>30</td>\n",
       "      <td>365</td>\n",
       "    </tr>\n",
       "  </tbody>\n",
       "</table>\n",
       "<p>5 rows × 48 columns</p>\n",
       "</div>"
      ],
      "text/plain": [
       "       id  host_response_time host_response_rate host_acceptance_rate  \\\n",
       "0    6422  within a few hours               100%                   0%   \n",
       "1   39870  within a few hours               100%                  54%   \n",
       "2   72906      within an hour               100%                 100%   \n",
       "3  258817      within an hour               100%                  46%   \n",
       "4  289242      within an hour               100%                  46%   \n",
       "\n",
       "  host_is_superhost  host_listings_count  host_total_listings_count  \\\n",
       "0                 t                  0.0                        0.0   \n",
       "1                 t                  2.0                        2.0   \n",
       "2                 t                  1.0                        1.0   \n",
       "3                 t                 13.0                       13.0   \n",
       "4                 t                 13.0                       13.0   \n",
       "\n",
       "                                           amenities has_availability  \\\n",
       "0  [\"Microwave\", \"Wifi\", \"Lock on bedroom door\", ...                t   \n",
       "1  [\"Microwave\", \"Keypad\", \"Wifi\", \"Essentials\", ...                t   \n",
       "2  [\"Microwave\", \"Essentials\", \"Refrigerator\", \"H...                t   \n",
       "3  [\"Microwave\", \"Keypad\", \"Wifi\", \"Essentials\", ...                t   \n",
       "4  [\"Microwave\", \"Keypad\", \"Wifi\", \"Essentials\", ...                t   \n",
       "\n",
       "   availability_30  ...  latitude  longitude         property_type  \\\n",
       "0                0  ...  36.17315  -86.73581  Private room in home   \n",
       "1                8  ...  36.12523  -86.81278  Private room in home   \n",
       "2                2  ...  36.13122  -86.80066    Entire rental unit   \n",
       "3               19  ...  36.16249  -86.58988  Private room in home   \n",
       "4               19  ...  36.16102  -86.59207  Private room in home   \n",
       "\n",
       "         room_type  accommodates  bathrooms_text  bedrooms  beds  \\\n",
       "0     Private room             2  1 private bath       2.0   3.0   \n",
       "1     Private room             2  1 private bath       1.0   1.0   \n",
       "2  Entire home/apt             2          1 bath       2.0   2.0   \n",
       "3     Private room             2  1 private bath       1.0   2.0   \n",
       "4     Private room             1   1 shared bath       1.0   3.0   \n",
       "\n",
       "   minimum_nights  maximum_nights  \n",
       "0              30             365  \n",
       "1               1            1125  \n",
       "2               2               7  \n",
       "3              30             365  \n",
       "4              30             365  \n",
       "\n",
       "[5 rows x 48 columns]"
      ]
     },
     "execution_count": 60,
     "metadata": {},
     "output_type": "execute_result"
    }
   ],
   "source": [
    "df_final_listing.head()"
   ]
  },
  {
   "cell_type": "code",
   "execution_count": 61,
   "metadata": {},
   "outputs": [
    {
     "name": "stdout",
     "output_type": "stream",
     "text": [
      "52\n",
      "165\n",
      "142\n",
      "137\n"
     ]
    }
   ],
   "source": [
    "# List of id's with no availability in first scrape\n",
    "first_scrape_noavail = df1[df1['has_availability'] == 'f']['id'].tolist()\n",
    "# List of id's with no availability in second scrape\n",
    "second_scrape_noavail = df2[df2['has_availability'] == 'f']['id'].tolist()\n",
    "# List of id's with no availability in third scrape\n",
    "third_scrape_noavail = df3[df3['has_availability'] == 'f']['id'].tolist()\n",
    "# List of id's with no availability in fourth scrape\n",
    "fourth_scrape_noavail = df4[df4['has_availability'] == 'f']['id'].tolist()\n",
    "# fourth_scrape_noavail\n",
    "print(len(first_scrape_noavail))\n",
    "print(len(second_scrape_noavail))\n",
    "print(len(third_scrape_noavail))\n",
    "print(len(fourth_scrape_noavail))"
   ]
  },
  {
   "cell_type": "code",
   "execution_count": 62,
   "metadata": {},
   "outputs": [
    {
     "name": "stdout",
     "output_type": "stream",
     "text": [
      "Initial temp dataframe size (9727, 3)\n",
      "The shape of temp df after removing duplicates (9493, 3)\n",
      "The shape of the final processed listing (27966, 48)\n"
     ]
    }
   ],
   "source": [
    "# Get the count of the listings group by id and availability\n",
    "df_temp = df_final_listing.groupby(['id','has_availability']).size().reset_index(name = 'count')\n",
    "print(f'Initial temp dataframe size {df_temp.shape}')\n",
    "# Remove those listing id's that appear twice as this will mean that in some scrapes it is available & in some scrapes it was not available (could be due to any reason)\n",
    "df_temp.drop_duplicates(subset = ['id'],keep=False ,inplace=True)\n",
    "print(f'The shape of temp df after removing duplicates {df_temp.shape}')\n",
    "# Remove listings which were available in the scrapes in which they appear\n",
    "idx_to_drop_all_t = df_temp[df_temp['has_availability'] == 't'].index\n",
    "df_temp.drop(index=idx_to_drop_all_t, axis = 0, inplace = True)\n",
    "# get the listings to remove from final consideration\n",
    "listings_not_avail_atll = df_temp['id'].tolist()\n",
    "\n",
    "# Keep only those listings that are available in atleast one of the scrape\n",
    "df_final_listing = df_final_listing[~df_final_listing['id'].isin(listings_not_avail_atll)]\n",
    "print(f'The shape of the final processed listing {df_final_listing.shape}')"
   ]
  },
  {
   "cell_type": "code",
   "execution_count": 63,
   "metadata": {},
   "outputs": [],
   "source": [
    "# # Drop listings which has f as availability in all the scrapes\n",
    "# df_temp = df_final_listing.groupby(['id','has_availability']).size().reset_index(name = 'count')\n",
    "# # Get the listing id's whose availability was marked as f and appeared in all the scrapes (the calendar file for these listings will have all 365 days marked as f)\n",
    "# listings_not_avail_atll = df_temp[(df_temp['has_availability'] == 'f') & (df_temp['count'] == 4)]['id'].tolist()\n",
    "\n",
    "# # check in the calendar file also to strengthen the point\n",
    "# print(calendar_df1[(calendar_df1['listing_id'].isin(listings_not_avail_atll)) & (calendar_df1['available'] == 't')])\n",
    "# print(calendar_df2[(calendar_df2['listing_id'].isin(listings_not_avail_atll)) & (calendar_df2['available'] == 't')])\n",
    "# print(calendar_df1[(calendar_df1['listing_id'].isin(listings_not_avail_atll)) & (calendar_df1['available'] == 't')])\n",
    "# print(calendar_df1[(calendar_df1['listing_id'].isin(listings_not_avail_atll)) & (calendar_df1['available'] == 't')])\n",
    "\n",
    "# idx_to_drop = df_final_listing.loc[df_final_listing['id'].isin(listings_not_avail_atll), :].index\n",
    "# df_final_listing.drop(index= idx_to_drop , axis = 0, inplace = True)"
   ]
  },
  {
   "cell_type": "code",
   "execution_count": 64,
   "metadata": {},
   "outputs": [],
   "source": [
    "# # Drop the listings which occurred only once in all the scrape and was marked as \"f\" in has_availability column\n",
    "# df_temp = df_final_listing.groupby(['id']).size().reset_index(name = 'count')\n",
    "# # Get the listing id that appeared only once\n",
    "# l1 = df_temp[df_temp['count'] == 1]['id']\n",
    "# # Out of those listings check which one's have f as availability\n",
    "# idx_to_drop = df_final_listing.loc[(df_final_listing['id'].isin(l1)) & (df_final_listing['has_availability'] == 'f'),:].index\n",
    "# print(df_final_listing.loc[idx_to_drop,['id','scrape_date']])\n",
    "# df_final_listing.drop(index= idx_to_drop , axis = 0, inplace = True)"
   ]
  },
  {
   "cell_type": "markdown",
   "metadata": {},
   "source": [
    "## Get the reviews data\n"
   ]
  },
  {
   "cell_type": "code",
   "execution_count": 65,
   "metadata": {},
   "outputs": [],
   "source": [
    "reviews_df1 = pd.read_csv(\"./data/2021-12-17/reviews1.csv\", parse_dates=['date'])\n",
    "reviews_df1['scrape_date'] = '2021-12-17'\n",
    "\n",
    "reviews_df2 = pd.read_csv(\"./data/2022-03-20/reviews2.csv\", parse_dates=['date'])\n",
    "reviews_df2['scrape_date'] = '2022-03-20'\n",
    "\n",
    "reviews_df3 = pd.read_csv(\"./data/2022-06-13/reviews3.csv\", parse_dates=['date'])\n",
    "reviews_df3['scrape_date'] = '2022-06-13'\n",
    "\n",
    "# The source column is extra in this file. So just retrieve the columns that were listed in earlier scrapes\n",
    "reviews_df4 = pd.read_csv(\"./data/2022-09-15/reviews4.csv\", parse_dates=['date'])\n",
    "reviews_df4['scrape_date'] = '2022-09-15'\n",
    "\n",
    "df_merged_reviews = pd.concat([\n",
    "    reviews_df1, reviews_df2, reviews_df3, reviews_df4\n",
    "], axis = 0, ignore_index=True)"
   ]
  },
  {
   "cell_type": "code",
   "execution_count": 66,
   "metadata": {},
   "outputs": [],
   "source": [
    "# Check how the reviews file look like for the listings that are marked as f in the scrapes\n",
    "df_merged_reviews[df_merged_reviews['listing_id'].isin(listings_not_avail_atll)].to_csv(\"listings_na_scrapes.csv\", index=False)\n",
    "## it has been checked that the listings that were marked as f in all the scrape files, for them the latest reviews are not available, and also keeping them would not be a good idea as they are not available\n",
    "## any more\n",
    "reviews_idx_to_drop = df_merged_reviews.loc[df_merged_reviews['listing_id'].isin(listings_not_avail_atll), :].index\n",
    "df_merged_reviews.drop(index= reviews_idx_to_drop, inplace = True)"
   ]
  },
  {
   "cell_type": "code",
   "execution_count": 67,
   "metadata": {},
   "outputs": [],
   "source": [
    "# drop the rows with no comments\n",
    "df_merged_reviews.dropna(subset=['comments'], inplace = True)"
   ]
  },
  {
   "cell_type": "code",
   "execution_count": 68,
   "metadata": {},
   "outputs": [],
   "source": [
    "# Check the records in the reviews file where text contains automated posting\n",
    "df_merged_reviews[df_merged_reviews['comments'].str.contains('automated posting')].to_csv(\"automation_text.csv\", index=False)\n",
    "# The automated posting text has been associated with the cancellations. Also the last automated posting was on March 2020 (checked in the file created). This will not be useful for any sentiment analysis\n",
    "drop_idx = df_merged_reviews.loc[df_merged_reviews['comments'].str.contains('automated posting'), :].index\n",
    "df_merged_reviews.drop(index= drop_idx, inplace = True)"
   ]
  },
  {
   "cell_type": "code",
   "execution_count": 69,
   "metadata": {},
   "outputs": [],
   "source": [
    "# df_merged_reviews[df_merged_reviews['comments'].str.contains('auto')].to_csv(\"random.csv\", index=False)\n",
    "# df_merged_reviews.to_csv(\"rad1.csv\", index=False)"
   ]
  },
  {
   "cell_type": "code",
   "execution_count": 70,
   "metadata": {},
   "outputs": [
    {
     "data": {
      "text/plain": [
       "set()"
      ]
     },
     "execution_count": 70,
     "metadata": {},
     "output_type": "execute_result"
    }
   ],
   "source": [
    "# check if there are any listings whose reviews are only until 2021-12-16\n",
    "# get the max date for each listing\n",
    "# df_merged_reviews.groupby('listing_id', as_index=False)['date'].max().to_csv('max_dates_each_listing.csv', index=False)\n",
    "\n",
    "# get all the listings with max_date < 2021-09-31\n",
    "df_listings_maxdate = df_merged_reviews.groupby('listing_id', as_index=False)['date'].max()\n",
    "\n",
    "l2 = df_listings_maxdate[df_listings_maxdate['date'] <= pd.to_datetime('2021-09-30')]['listing_id'].tolist()\n",
    "\n",
    "# check if there are listings which are in reviews but not in listings file\n",
    "set(l2) - set(df_final_listing['id'].tolist())\n"
   ]
  },
  {
   "cell_type": "code",
   "execution_count": 71,
   "metadata": {},
   "outputs": [
    {
     "name": "stdout",
     "output_type": "stream",
     "text": [
      "The shape of reviews file before removing duplicate records (1752553, 7)\n"
     ]
    }
   ],
   "source": [
    "print(f'The shape of reviews file before removing duplicate records {df_merged_reviews.shape}')"
   ]
  },
  {
   "cell_type": "code",
   "execution_count": 72,
   "metadata": {},
   "outputs": [
    {
     "data": {
      "text/plain": [
       "(547803, 7)"
      ]
     },
     "execution_count": 72,
     "metadata": {},
     "output_type": "execute_result"
    }
   ],
   "source": [
    "# As all the scrapes for reviews start from 2009, we need to keep the latest one --> I have found one weird thing that on the same date there were multiple comments given by the same person, and those\n",
    "# records have not been deleted with drop duplicates. The comment text was different, it feels like instead of editing what they have written, they decide to create new comment and add more text.\n",
    "df_merged_reviews = df_merged_reviews.sort_values(by = ['scrape_date'], ascending=False).drop_duplicates(subset=['listing_id','id','date','reviewer_id'], keep = 'first', ignore_index=True)\n",
    "df_merged_reviews.shape"
   ]
  },
  {
   "cell_type": "code",
   "execution_count": 78,
   "metadata": {},
   "outputs": [
    {
     "data": {
      "text/plain": [
       "709952316127237292"
      ]
     },
     "execution_count": 78,
     "metadata": {},
     "output_type": "execute_result"
    }
   ],
   "source": [
    "df_merged_reviews.listing_id.max()"
   ]
  },
  {
   "cell_type": "code",
   "execution_count": 73,
   "metadata": {},
   "outputs": [],
   "source": [
    "# Download the reviews data with proper listings, to process it further\n",
    "df_merged_reviews.to_csv('./data_after_processing/reviews_related_data/processed_reviews.csv', index=False)"
   ]
  },
  {
   "cell_type": "code",
   "execution_count": 74,
   "metadata": {},
   "outputs": [
    {
     "data": {
      "text/plain": [
       "(27966, 48)"
      ]
     },
     "execution_count": 74,
     "metadata": {},
     "output_type": "execute_result"
    }
   ],
   "source": [
    "df_final_listing.shape"
   ]
  },
  {
   "cell_type": "code",
   "execution_count": 75,
   "metadata": {},
   "outputs": [
    {
     "data": {
      "text/plain": [
       "(9558, 48)"
      ]
     },
     "execution_count": 75,
     "metadata": {},
     "output_type": "execute_result"
    }
   ],
   "source": [
    "df_final_listing1 = df_final_listing.copy()\n",
    "\n",
    "# Use df_final_listing1 to remove duplicates listing id, as this would be just used lat long purpose\n",
    "df_final_listing1 = df_final_listing1.sort_values(by='scrape_date', ascending=False).drop_duplicates(subset = 'id' ,keep='first' )\n",
    "df_final_listing1.shape"
   ]
  },
  {
   "cell_type": "code",
   "execution_count": 79,
   "metadata": {},
   "outputs": [],
   "source": [
    "# Now this will be saved as a file\n",
    "df_final_listing1.to_csv('./data_after_processing/listings_geographical_data2.csv',index=False)"
   ]
  },
  {
   "cell_type": "markdown",
   "metadata": {},
   "source": [
    "**Rough Work**"
   ]
  },
  {
   "cell_type": "code",
   "execution_count": 80,
   "metadata": {},
   "outputs": [
    {
     "data": {
      "text/html": [
       "<div>\n",
       "<style scoped>\n",
       "    .dataframe tbody tr th:only-of-type {\n",
       "        vertical-align: middle;\n",
       "    }\n",
       "\n",
       "    .dataframe tbody tr th {\n",
       "        vertical-align: top;\n",
       "    }\n",
       "\n",
       "    .dataframe thead th {\n",
       "        text-align: right;\n",
       "    }\n",
       "</style>\n",
       "<table border=\"1\" class=\"dataframe\">\n",
       "  <thead>\n",
       "    <tr style=\"text-align: right;\">\n",
       "      <th></th>\n",
       "      <th>has_availability</th>\n",
       "      <th>scrape_date</th>\n",
       "      <th>neighbourhood_cleansed</th>\n",
       "      <th>name</th>\n",
       "    </tr>\n",
       "  </thead>\n",
       "  <tbody>\n",
       "    <tr>\n",
       "      <th>937</th>\n",
       "      <td>f</td>\n",
       "      <td>2021-12-17</td>\n",
       "      <td>District 25</td>\n",
       "      <td>Cozy, Loft-Style Getaway in 12 South</td>\n",
       "    </tr>\n",
       "    <tr>\n",
       "      <th>7278</th>\n",
       "      <td>f</td>\n",
       "      <td>2022-03-20</td>\n",
       "      <td>District 25</td>\n",
       "      <td>Cozy, Loft-Style Getaway in 12 South</td>\n",
       "    </tr>\n",
       "  </tbody>\n",
       "</table>\n",
       "</div>"
      ],
      "text/plain": [
       "     has_availability scrape_date neighbourhood_cleansed  \\\n",
       "937                 f  2021-12-17            District 25   \n",
       "7278                f  2022-03-20            District 25   \n",
       "\n",
       "                                      name  \n",
       "937   Cozy, Loft-Style Getaway in 12 South  \n",
       "7278  Cozy, Loft-Style Getaway in 12 South  "
      ]
     },
     "execution_count": 80,
     "metadata": {},
     "output_type": "execute_result"
    }
   ],
   "source": [
    "df_listings[df_listings['id']==16392224][['has_availability', 'scrape_date','neighbourhood_cleansed','name']]"
   ]
  },
  {
   "cell_type": "code",
   "execution_count": 81,
   "metadata": {},
   "outputs": [],
   "source": [
    "# df_listings[df_listings['id']==513664][['listing_url','has_availability','neighbourhood_cleansed','name']]\n",
    "# df_listings[df_listings['id']==6422][['listing_url','has_availability','neighbourhood_cleansed','name']]"
   ]
  },
  {
   "cell_type": "code",
   "execution_count": 82,
   "metadata": {},
   "outputs": [],
   "source": [
    "# see if there are listings to whom less than 5 people gave the reviews \n",
    "df_merged_reviews = pd.read_csv('./data_after_processing/reviews_related_data/processed_reviews.csv')\n",
    "# df_merged_reviews['listing_id'] = df_merged_reviews['listing_id'].astype('string')\n",
    "df_t1 = df_merged_reviews.groupby('listing_id', as_index=False)['comments'].count().rename(columns = {'comments':'count'})\n",
    "listid_less_reviews = df_t1[df_t1['count'] < 2]['listing_id'].tolist()"
   ]
  },
  {
   "cell_type": "code",
   "execution_count": 83,
   "metadata": {},
   "outputs": [
    {
     "data": {
      "text/html": [
       "<div>\n",
       "<style scoped>\n",
       "    .dataframe tbody tr th:only-of-type {\n",
       "        vertical-align: middle;\n",
       "    }\n",
       "\n",
       "    .dataframe tbody tr th {\n",
       "        vertical-align: top;\n",
       "    }\n",
       "\n",
       "    .dataframe thead th {\n",
       "        text-align: right;\n",
       "    }\n",
       "</style>\n",
       "<table border=\"1\" class=\"dataframe\">\n",
       "  <thead>\n",
       "    <tr style=\"text-align: right;\">\n",
       "      <th></th>\n",
       "      <th>listing_id</th>\n",
       "      <th>date</th>\n",
       "    </tr>\n",
       "  </thead>\n",
       "  <tbody>\n",
       "    <tr>\n",
       "      <th>7318</th>\n",
       "      <td>16795349</td>\n",
       "      <td>2018-05-20</td>\n",
       "    </tr>\n",
       "    <tr>\n",
       "      <th>38157</th>\n",
       "      <td>13496959</td>\n",
       "      <td>2016-06-27</td>\n",
       "    </tr>\n",
       "    <tr>\n",
       "      <th>54240</th>\n",
       "      <td>13671915</td>\n",
       "      <td>2017-10-08</td>\n",
       "    </tr>\n",
       "    <tr>\n",
       "      <th>72503</th>\n",
       "      <td>21741057</td>\n",
       "      <td>2021-08-31</td>\n",
       "    </tr>\n",
       "    <tr>\n",
       "      <th>81153</th>\n",
       "      <td>23016197</td>\n",
       "      <td>2021-03-11</td>\n",
       "    </tr>\n",
       "    <tr>\n",
       "      <th>...</th>\n",
       "      <td>...</td>\n",
       "      <td>...</td>\n",
       "    </tr>\n",
       "    <tr>\n",
       "      <th>544120</th>\n",
       "      <td>45242131</td>\n",
       "      <td>2021-10-20</td>\n",
       "    </tr>\n",
       "    <tr>\n",
       "      <th>544121</th>\n",
       "      <td>45181383</td>\n",
       "      <td>2020-11-01</td>\n",
       "    </tr>\n",
       "    <tr>\n",
       "      <th>544373</th>\n",
       "      <td>44683388</td>\n",
       "      <td>2021-09-16</td>\n",
       "    </tr>\n",
       "    <tr>\n",
       "      <th>544795</th>\n",
       "      <td>24697042</td>\n",
       "      <td>2018-05-17</td>\n",
       "    </tr>\n",
       "    <tr>\n",
       "      <th>547058</th>\n",
       "      <td>33129470</td>\n",
       "      <td>2019-04-28</td>\n",
       "    </tr>\n",
       "  </tbody>\n",
       "</table>\n",
       "<p>490 rows × 2 columns</p>\n",
       "</div>"
      ],
      "text/plain": [
       "        listing_id        date\n",
       "7318      16795349  2018-05-20\n",
       "38157     13496959  2016-06-27\n",
       "54240     13671915  2017-10-08\n",
       "72503     21741057  2021-08-31\n",
       "81153     23016197  2021-03-11\n",
       "...            ...         ...\n",
       "544120    45242131  2021-10-20\n",
       "544121    45181383  2020-11-01\n",
       "544373    44683388  2021-09-16\n",
       "544795    24697042  2018-05-17\n",
       "547058    33129470  2019-04-28\n",
       "\n",
       "[490 rows x 2 columns]"
      ]
     },
     "execution_count": 83,
     "metadata": {},
     "output_type": "execute_result"
    }
   ],
   "source": [
    "\n",
    "df_merged_reviews[df_merged_reviews['listing_id'].isin(listid_less_reviews)][['listing_id','date']]"
   ]
  },
  {
   "cell_type": "code",
   "execution_count": 84,
   "metadata": {},
   "outputs": [],
   "source": [
    "df_t2 = pd.concat([\n",
    "    pd.read_csv('./data/2021-12-17/listings1.csv'),\n",
    "    pd.read_csv('./data/2022-03-20/listings2.csv'),\n",
    "    pd.read_csv('./data/2022-06-13/listings3.csv'),\n",
    "    pd.read_csv('./data/2022-09-15/listings4.csv')\n",
    "], ignore_index=True)\n",
    "\n",
    "df_t2[df_t2['id'].isin(listid_less_reviews)].to_csv('rad3.csv')"
   ]
  },
  {
   "cell_type": "code",
   "execution_count": 85,
   "metadata": {},
   "outputs": [
    {
     "data": {
      "text/html": [
       "<div>\n",
       "<style scoped>\n",
       "    .dataframe tbody tr th:only-of-type {\n",
       "        vertical-align: middle;\n",
       "    }\n",
       "\n",
       "    .dataframe tbody tr th {\n",
       "        vertical-align: top;\n",
       "    }\n",
       "\n",
       "    .dataframe thead th {\n",
       "        text-align: right;\n",
       "    }\n",
       "</style>\n",
       "<table border=\"1\" class=\"dataframe\">\n",
       "  <thead>\n",
       "    <tr style=\"text-align: right;\">\n",
       "      <th></th>\n",
       "      <th>id</th>\n",
       "      <th>listing_url</th>\n",
       "      <th>scrape_id</th>\n",
       "      <th>last_scraped</th>\n",
       "      <th>name</th>\n",
       "      <th>description</th>\n",
       "      <th>neighborhood_overview</th>\n",
       "      <th>picture_url</th>\n",
       "      <th>host_id</th>\n",
       "      <th>host_url</th>\n",
       "      <th>...</th>\n",
       "      <th>review_scores_location</th>\n",
       "      <th>review_scores_value</th>\n",
       "      <th>license</th>\n",
       "      <th>instant_bookable</th>\n",
       "      <th>calculated_host_listings_count</th>\n",
       "      <th>calculated_host_listings_count_entire_homes</th>\n",
       "      <th>calculated_host_listings_count_private_rooms</th>\n",
       "      <th>calculated_host_listings_count_shared_rooms</th>\n",
       "      <th>reviews_per_month</th>\n",
       "      <th>source</th>\n",
       "    </tr>\n",
       "  </thead>\n",
       "  <tbody>\n",
       "    <tr>\n",
       "      <th>2464</th>\n",
       "      <td>33129470</td>\n",
       "      <td>https://www.airbnb.com/rooms/33129470</td>\n",
       "      <td>20211217003604</td>\n",
       "      <td>2021-12-17</td>\n",
       "      <td>Downtown Nashville Shotgun-Style Home</td>\n",
       "      <td>Beautiful 2-level home located in Downtown Nas...</td>\n",
       "      <td>Across the street from Germantown which offers...</td>\n",
       "      <td>https://a0.muscache.com/pictures/a9296ca2-99a6...</td>\n",
       "      <td>55042788</td>\n",
       "      <td>https://www.airbnb.com/users/show/55042788</td>\n",
       "      <td>...</td>\n",
       "      <td>4.0</td>\n",
       "      <td>4.0</td>\n",
       "      <td>NaN</td>\n",
       "      <td>t</td>\n",
       "      <td>1</td>\n",
       "      <td>1</td>\n",
       "      <td>0</td>\n",
       "      <td>0</td>\n",
       "      <td>0.03</td>\n",
       "      <td>NaN</td>\n",
       "    </tr>\n",
       "  </tbody>\n",
       "</table>\n",
       "<p>1 rows × 75 columns</p>\n",
       "</div>"
      ],
      "text/plain": [
       "            id                            listing_url       scrape_id  \\\n",
       "2464  33129470  https://www.airbnb.com/rooms/33129470  20211217003604   \n",
       "\n",
       "     last_scraped                                   name  \\\n",
       "2464   2021-12-17  Downtown Nashville Shotgun-Style Home   \n",
       "\n",
       "                                            description  \\\n",
       "2464  Beautiful 2-level home located in Downtown Nas...   \n",
       "\n",
       "                                  neighborhood_overview  \\\n",
       "2464  Across the street from Germantown which offers...   \n",
       "\n",
       "                                            picture_url   host_id  \\\n",
       "2464  https://a0.muscache.com/pictures/a9296ca2-99a6...  55042788   \n",
       "\n",
       "                                        host_url  ... review_scores_location  \\\n",
       "2464  https://www.airbnb.com/users/show/55042788  ...                    4.0   \n",
       "\n",
       "     review_scores_value license instant_bookable  \\\n",
       "2464                 4.0     NaN                t   \n",
       "\n",
       "     calculated_host_listings_count  \\\n",
       "2464                              1   \n",
       "\n",
       "     calculated_host_listings_count_entire_homes  \\\n",
       "2464                                           1   \n",
       "\n",
       "     calculated_host_listings_count_private_rooms  \\\n",
       "2464                                            0   \n",
       "\n",
       "     calculated_host_listings_count_shared_rooms reviews_per_month source  \n",
       "2464                                           0              0.03    NaN  \n",
       "\n",
       "[1 rows x 75 columns]"
      ]
     },
     "execution_count": 85,
     "metadata": {},
     "output_type": "execute_result"
    }
   ],
   "source": [
    "df_t2[df_t2['id']==33129470]"
   ]
  }
 ],
 "metadata": {
  "kernelspec": {
   "display_name": "Python 3.10.4 ('venv': venv)",
   "language": "python",
   "name": "python3"
  },
  "language_info": {
   "codemirror_mode": {
    "name": "ipython",
    "version": 3
   },
   "file_extension": ".py",
   "mimetype": "text/x-python",
   "name": "python",
   "nbconvert_exporter": "python",
   "pygments_lexer": "ipython3",
   "version": "3.10.4"
  },
  "orig_nbformat": 4,
  "vscode": {
   "interpreter": {
    "hash": "07de844f12b7ce505123c8a0011b27c4c32b306011201dd41064d4acde3c4bc3"
   }
  }
 },
 "nbformat": 4,
 "nbformat_minor": 2
}
