{
 "cells": [
  {
   "cell_type": "code",
   "execution_count": 3,
   "metadata": {},
   "outputs": [],
   "source": [
    "# Loading required libraries\n",
    "import pandas as pd\n",
    "import numpy as np\n",
    "import seaborn as sns\n",
    "import matplotlib.pyplot as plt\n",
    "from datetime import datetime\n",
    "import string #for punctuation\n",
    "from pycontractions  import Contractions\n",
    "from emoji import replace_emoji\n",
    "import re\n",
    "import pattern\n",
    "from pattern.en import lemma\n",
    "from keybert import KeyBERT\n",
    "import json\n",
    "from nltk.tokenize import sent_tokenize, word_tokenize"
   ]
  },
  {
   "cell_type": "markdown",
   "metadata": {},
   "source": [
    "## Reading Reviews"
   ]
  },
  {
   "cell_type": "code",
   "execution_count": 4,
   "metadata": {},
   "outputs": [],
   "source": [
    "# The comments.csv file is create in the \"reviews_keyphrases.ipynb\" file\n",
    "# I am using the prior checkpoint files and building things on top of that\n",
    "df_reviews = pd.read_csv('./data_after_processing/reviews_related_data/comments_with_sentiments.csv')"
   ]
  },
  {
   "cell_type": "code",
   "execution_count": 5,
   "metadata": {},
   "outputs": [],
   "source": [
    "# https://medium.com/@lukei_3514/dealing-with-contractions-in-nlp-d6174300876b\n",
    "# Pycontractions model\n",
    "cont = Contractions('GoogleNews-vectors-negative300.bin')\n",
    "cont.load_models()"
   ]
  },
  {
   "cell_type": "code",
   "execution_count": 6,
   "metadata": {},
   "outputs": [],
   "source": [
    "def sent_tokenize_with_indices(text):\n",
    "    # Sentence Tokenizer\n",
    "    sentences = sent_tokenize(text)\n",
    "    offset = 0\n",
    "    output = []\n",
    "    for sentence in sentences:\n",
    "        offset = text.find(sentence, offset)\n",
    "        # Append the start & end positions of the tokenized sentence retrived from the review comment processed\n",
    "        output.append({\n",
    "            'sentence': sentence,\n",
    "            'start': offset,\n",
    "            'end': offset + len(sentence)\n",
    "        })\n",
    "        offset += len(sentence)\n",
    "    return output"
   ]
  },
  {
   "cell_type": "code",
   "execution_count": 8,
   "metadata": {},
   "outputs": [],
   "source": [
    "df_reviews['cleaned_comments'] = df_reviews['comments'] \\\n",
    "    .apply(lambda x: x.lower()) \\\n",
    "    .apply(lambda x: x.replace('<br/>', '')) \\\n",
    "    .apply(replace_emoji, args=(''))\\\n",
    "    .apply(lambda x : re.sub('[^\\x00-\\x7F]+' , \"'\", x))"
   ]
  },
  {
   "cell_type": "code",
   "execution_count": 9,
   "metadata": {},
   "outputs": [],
   "source": [
    "uncontracted = list(cont.expand_texts(df_reviews['cleaned_comments'].to_list(), precise=True))"
   ]
  },
  {
   "cell_type": "code",
   "execution_count": 10,
   "metadata": {},
   "outputs": [],
   "source": [
    "df_reviews['expanded_clean_comments'] = uncontracted\n"
   ]
  },
  {
   "cell_type": "code",
   "execution_count": 11,
   "metadata": {},
   "outputs": [],
   "source": [
    "df_reviews['sentences'] = df_reviews['expanded_clean_comments'].apply(sent_tokenize_with_indices)"
   ]
  },
  {
   "cell_type": "code",
   "execution_count": 16,
   "metadata": {},
   "outputs": [],
   "source": [
    "df_reviews.to_parquet('./data_after_processing/reviews_related_data/comments_sentences_offset.parquet', index=False)"
   ]
  }
 ],
 "metadata": {
  "kernelspec": {
   "display_name": "Python 3.10.4 ('venv': venv)",
   "language": "python",
   "name": "python3"
  },
  "language_info": {
   "codemirror_mode": {
    "name": "ipython",
    "version": 3
   },
   "file_extension": ".py",
   "mimetype": "text/x-python",
   "name": "python",
   "nbconvert_exporter": "python",
   "pygments_lexer": "ipython3",
   "version": "3.10.4"
  },
  "orig_nbformat": 4,
  "vscode": {
   "interpreter": {
    "hash": "07de844f12b7ce505123c8a0011b27c4c32b306011201dd41064d4acde3c4bc3"
   }
  }
 },
 "nbformat": 4,
 "nbformat_minor": 2
}
