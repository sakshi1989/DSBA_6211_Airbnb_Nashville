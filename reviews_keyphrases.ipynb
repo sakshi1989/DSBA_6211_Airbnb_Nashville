{
 "cells": [
  {
   "cell_type": "markdown",
   "metadata": {},
   "source": [
    "# 1. Analysis of Nashville Reviews\n"
   ]
  },
  {
   "cell_type": "code",
   "execution_count": 1,
   "metadata": {},
   "outputs": [],
   "source": [
    "# Loading required libraries\n",
    "import pandas as pd\n",
    "import numpy as np\n",
    "import seaborn as sns\n",
    "import matplotlib.pyplot as plt\n",
    "from datetime import datetime\n",
    "import string #for punctuation\n",
    "from pycontractions  import Contractions\n",
    "# import swifter\n",
    "from emoji import replace_emoji\n",
    "import re\n",
    "import pattern\n",
    "from pattern.en import lemma\n",
    "from keybert import KeyBERT\n",
    "import json\n",
    "from wordcloud import WordCloud"
   ]
  },
  {
   "cell_type": "markdown",
   "metadata": {},
   "source": [
    "## Reading Reviews"
   ]
  },
  {
   "cell_type": "code",
   "execution_count": 2,
   "metadata": {},
   "outputs": [
    {
     "data": {
      "text/html": [
       "<div>\n",
       "<style scoped>\n",
       "    .dataframe tbody tr th:only-of-type {\n",
       "        vertical-align: middle;\n",
       "    }\n",
       "\n",
       "    .dataframe tbody tr th {\n",
       "        vertical-align: top;\n",
       "    }\n",
       "\n",
       "    .dataframe thead th {\n",
       "        text-align: right;\n",
       "    }\n",
       "</style>\n",
       "<table border=\"1\" class=\"dataframe\">\n",
       "  <thead>\n",
       "    <tr style=\"text-align: right;\">\n",
       "      <th></th>\n",
       "      <th>listing_id</th>\n",
       "      <th>id</th>\n",
       "      <th>date</th>\n",
       "      <th>reviewer_id</th>\n",
       "      <th>reviewer_name</th>\n",
       "      <th>comments</th>\n",
       "    </tr>\n",
       "  </thead>\n",
       "  <tbody>\n",
       "    <tr>\n",
       "      <th>0</th>\n",
       "      <td>6422</td>\n",
       "      <td>1927</td>\n",
       "      <td>2009-04-30</td>\n",
       "      <td>14100</td>\n",
       "      <td>Melissa</td>\n",
       "      <td>I can't say enough about how wonderful it was ...</td>\n",
       "    </tr>\n",
       "    <tr>\n",
       "      <th>1</th>\n",
       "      <td>6422</td>\n",
       "      <td>3867</td>\n",
       "      <td>2009-06-11</td>\n",
       "      <td>17413</td>\n",
       "      <td>Raquel</td>\n",
       "      <td>Michelle and Collier's home is wonderful! They...</td>\n",
       "    </tr>\n",
       "    <tr>\n",
       "      <th>2</th>\n",
       "      <td>6422</td>\n",
       "      <td>4159</td>\n",
       "      <td>2009-06-17</td>\n",
       "      <td>20253</td>\n",
       "      <td>Ulrike</td>\n",
       "      <td>I spent one night at Michele's home and felt j...</td>\n",
       "    </tr>\n",
       "    <tr>\n",
       "      <th>3</th>\n",
       "      <td>6422</td>\n",
       "      <td>5724</td>\n",
       "      <td>2009-07-18</td>\n",
       "      <td>22544</td>\n",
       "      <td>Phil</td>\n",
       "      <td>Michele and Collier are two of the loveliest p...</td>\n",
       "    </tr>\n",
       "    <tr>\n",
       "      <th>4</th>\n",
       "      <td>6422</td>\n",
       "      <td>11891</td>\n",
       "      <td>2009-09-29</td>\n",
       "      <td>33409</td>\n",
       "      <td>Claire</td>\n",
       "      <td>We had the most lovely time staying with Miche...</td>\n",
       "    </tr>\n",
       "  </tbody>\n",
       "</table>\n",
       "</div>"
      ],
      "text/plain": [
       "   listing_id     id       date  reviewer_id reviewer_name  \\\n",
       "0        6422   1927 2009-04-30        14100       Melissa   \n",
       "1        6422   3867 2009-06-11        17413        Raquel   \n",
       "2        6422   4159 2009-06-17        20253        Ulrike   \n",
       "3        6422   5724 2009-07-18        22544          Phil   \n",
       "4        6422  11891 2009-09-29        33409        Claire   \n",
       "\n",
       "                                            comments  \n",
       "0  I can't say enough about how wonderful it was ...  \n",
       "1  Michelle and Collier's home is wonderful! They...  \n",
       "2  I spent one night at Michele's home and felt j...  \n",
       "3  Michele and Collier are two of the loveliest p...  \n",
       "4  We had the most lovely time staying with Miche...  "
      ]
     },
     "execution_count": 2,
     "metadata": {},
     "output_type": "execute_result"
    }
   ],
   "source": [
    "# Merge 4 quarters reviews data\n",
    "df_reviews = pd.concat([pd.read_csv('data/2021-12-17/reviews1.csv',parse_dates=['date']),\n",
    "                pd.read_csv('data/2022-03-20/reviews2.csv',parse_dates=['date']),\n",
    "                pd.read_csv('data/2022-06-13/reviews3.csv',parse_dates=['date']),\n",
    "                pd.read_csv('data/2022-09-15/reviews4.csv',parse_dates=['date'])], axis = 0 , ignore_index=True)\n",
    "df_reviews.head()"
   ]
  },
  {
   "cell_type": "code",
   "execution_count": 3,
   "metadata": {},
   "outputs": [
    {
     "name": "stdout",
     "output_type": "stream",
     "text": [
      "After loading shape of the dataframe: (1756645, 6)\n"
     ]
    }
   ],
   "source": [
    "print(f'After loading shape of the dataframe: {df_reviews.shape}')"
   ]
  },
  {
   "cell_type": "code",
   "execution_count": 4,
   "metadata": {},
   "outputs": [],
   "source": [
    "# Retrieve the latest review of the listing given by each individual\n",
    "df_reviews.drop_duplicates(subset=['listing_id','id','date','reviewer_id'],\\\n",
    "    inplace=True,ignore_index=True,keep='last')"
   ]
  },
  {
   "cell_type": "code",
   "execution_count": 5,
   "metadata": {},
   "outputs": [
    {
     "name": "stdout",
     "output_type": "stream",
     "text": [
      "After removing duplicates shape of the dataframe: (549142, 6)\n"
     ]
    }
   ],
   "source": [
    "print(f'After removing duplicates shape of the dataframe: {df_reviews.shape}')"
   ]
  },
  {
   "cell_type": "markdown",
   "metadata": {},
   "source": [
    "**Pre-processing of the text --> to make it clean**"
   ]
  },
  {
   "cell_type": "code",
   "execution_count": 6,
   "metadata": {},
   "outputs": [
    {
     "data": {
      "text/plain": [
       "listing_id         0\n",
       "id                 0\n",
       "date               0\n",
       "reviewer_id        0\n",
       "reviewer_name      1\n",
       "comments         201\n",
       "dtype: int64"
      ]
     },
     "execution_count": 6,
     "metadata": {},
     "output_type": "execute_result"
    }
   ],
   "source": [
    "# Check for the null values in the reviews dataframe\n",
    "# df_reviews[df_reviews.isna().any(axis=1)]\n",
    "df_reviews.isnull().sum()"
   ]
  },
  {
   "cell_type": "code",
   "execution_count": 7,
   "metadata": {},
   "outputs": [
    {
     "data": {
      "text/html": [
       "<div>\n",
       "<style scoped>\n",
       "    .dataframe tbody tr th:only-of-type {\n",
       "        vertical-align: middle;\n",
       "    }\n",
       "\n",
       "    .dataframe tbody tr th {\n",
       "        vertical-align: top;\n",
       "    }\n",
       "\n",
       "    .dataframe thead th {\n",
       "        text-align: right;\n",
       "    }\n",
       "</style>\n",
       "<table border=\"1\" class=\"dataframe\">\n",
       "  <thead>\n",
       "    <tr style=\"text-align: right;\">\n",
       "      <th></th>\n",
       "      <th>listing_id</th>\n",
       "      <th>id</th>\n",
       "      <th>date</th>\n",
       "      <th>reviewer_id</th>\n",
       "      <th>reviewer_name</th>\n",
       "      <th>comments</th>\n",
       "    </tr>\n",
       "  </thead>\n",
       "  <tbody>\n",
       "    <tr>\n",
       "      <th>65579</th>\n",
       "      <td>3710914</td>\n",
       "      <td>115989408</td>\n",
       "      <td>2016-11-27</td>\n",
       "      <td>24562860</td>\n",
       "      <td>NaN</td>\n",
       "      <td>this house is amazing. My family really love t...</td>\n",
       "    </tr>\n",
       "  </tbody>\n",
       "</table>\n",
       "</div>"
      ],
      "text/plain": [
       "       listing_id         id       date  reviewer_id reviewer_name  \\\n",
       "65579     3710914  115989408 2016-11-27     24562860           NaN   \n",
       "\n",
       "                                                comments  \n",
       "65579  this house is amazing. My family really love t...  "
      ]
     },
     "execution_count": 7,
     "metadata": {},
     "output_type": "execute_result"
    }
   ],
   "source": [
    "# Check the other columns value where the reviewer name is null\n",
    "df_reviews[df_reviews['reviewer_name'].isnull()]"
   ]
  },
  {
   "cell_type": "code",
   "execution_count": 8,
   "metadata": {},
   "outputs": [
    {
     "data": {
      "text/html": [
       "<div>\n",
       "<style scoped>\n",
       "    .dataframe tbody tr th:only-of-type {\n",
       "        vertical-align: middle;\n",
       "    }\n",
       "\n",
       "    .dataframe tbody tr th {\n",
       "        vertical-align: top;\n",
       "    }\n",
       "\n",
       "    .dataframe thead th {\n",
       "        text-align: right;\n",
       "    }\n",
       "</style>\n",
       "<table border=\"1\" class=\"dataframe\">\n",
       "  <thead>\n",
       "    <tr style=\"text-align: right;\">\n",
       "      <th></th>\n",
       "      <th>listing_id</th>\n",
       "      <th>id</th>\n",
       "      <th>date</th>\n",
       "      <th>reviewer_id</th>\n",
       "      <th>reviewer_name</th>\n",
       "      <th>comments</th>\n",
       "    </tr>\n",
       "  </thead>\n",
       "  <tbody>\n",
       "    <tr>\n",
       "      <th>65579</th>\n",
       "      <td>3710914</td>\n",
       "      <td>115989408</td>\n",
       "      <td>2016-11-27</td>\n",
       "      <td>24562860</td>\n",
       "      <td>NaN</td>\n",
       "      <td>this house is amazing. My family really love t...</td>\n",
       "    </tr>\n",
       "  </tbody>\n",
       "</table>\n",
       "</div>"
      ],
      "text/plain": [
       "       listing_id         id       date  reviewer_id reviewer_name  \\\n",
       "65579     3710914  115989408 2016-11-27     24562860           NaN   \n",
       "\n",
       "                                                comments  \n",
       "65579  this house is amazing. My family really love t...  "
      ]
     },
     "execution_count": 8,
     "metadata": {},
     "output_type": "execute_result"
    }
   ],
   "source": [
    "# Let us see other records with the same reviewer_id. Maybe that reviewer might have given comments to other listings\n",
    "df_reviews[df_reviews['reviewer_id'] == 24562860]"
   ]
  },
  {
   "cell_type": "code",
   "execution_count": 9,
   "metadata": {},
   "outputs": [
    {
     "data": {
      "text/html": [
       "<div>\n",
       "<style scoped>\n",
       "    .dataframe tbody tr th:only-of-type {\n",
       "        vertical-align: middle;\n",
       "    }\n",
       "\n",
       "    .dataframe tbody tr th {\n",
       "        vertical-align: top;\n",
       "    }\n",
       "\n",
       "    .dataframe thead th {\n",
       "        text-align: right;\n",
       "    }\n",
       "</style>\n",
       "<table border=\"1\" class=\"dataframe\">\n",
       "  <thead>\n",
       "    <tr style=\"text-align: right;\">\n",
       "      <th></th>\n",
       "      <th>listing_id</th>\n",
       "      <th>id</th>\n",
       "      <th>date</th>\n",
       "      <th>reviewer_id</th>\n",
       "      <th>reviewer_name</th>\n",
       "      <th>comments</th>\n",
       "    </tr>\n",
       "  </thead>\n",
       "  <tbody>\n",
       "    <tr>\n",
       "      <th>936</th>\n",
       "      <td>6276671</td>\n",
       "      <td>741973821</td>\n",
       "      <td>2021-03-24</td>\n",
       "      <td>344950784</td>\n",
       "      <td>Gregory</td>\n",
       "      <td>NaN</td>\n",
       "    </tr>\n",
       "    <tr>\n",
       "      <th>1021</th>\n",
       "      <td>8208036</td>\n",
       "      <td>173588705</td>\n",
       "      <td>2017-07-23</td>\n",
       "      <td>110869532</td>\n",
       "      <td>Damian</td>\n",
       "      <td>NaN</td>\n",
       "    </tr>\n",
       "    <tr>\n",
       "      <th>1845</th>\n",
       "      <td>10747246</td>\n",
       "      <td>262378718</td>\n",
       "      <td>2018-05-08</td>\n",
       "      <td>17239158</td>\n",
       "      <td>Andrew</td>\n",
       "      <td>NaN</td>\n",
       "    </tr>\n",
       "    <tr>\n",
       "      <th>3943</th>\n",
       "      <td>13884573</td>\n",
       "      <td>768146925</td>\n",
       "      <td>2021-06-08</td>\n",
       "      <td>22306297</td>\n",
       "      <td>Joe</td>\n",
       "      <td>NaN</td>\n",
       "    </tr>\n",
       "    <tr>\n",
       "      <th>4539</th>\n",
       "      <td>15706425</td>\n",
       "      <td>731712909</td>\n",
       "      <td>2021-02-15</td>\n",
       "      <td>57774661</td>\n",
       "      <td>George</td>\n",
       "      <td>NaN</td>\n",
       "    </tr>\n",
       "    <tr>\n",
       "      <th>...</th>\n",
       "      <td>...</td>\n",
       "      <td>...</td>\n",
       "      <td>...</td>\n",
       "      <td>...</td>\n",
       "      <td>...</td>\n",
       "      <td>...</td>\n",
       "    </tr>\n",
       "    <tr>\n",
       "      <th>531353</th>\n",
       "      <td>559383276976021385</td>\n",
       "      <td>703642146679840059</td>\n",
       "      <td>2022-08-28</td>\n",
       "      <td>349777746</td>\n",
       "      <td>Athanasios</td>\n",
       "      <td>NaN</td>\n",
       "    </tr>\n",
       "    <tr>\n",
       "      <th>533615</th>\n",
       "      <td>590653850968352802</td>\n",
       "      <td>689124790736796620</td>\n",
       "      <td>2022-08-08</td>\n",
       "      <td>423756434</td>\n",
       "      <td>Melissa</td>\n",
       "      <td>NaN</td>\n",
       "    </tr>\n",
       "    <tr>\n",
       "      <th>535343</th>\n",
       "      <td>606740002544154300</td>\n",
       "      <td>683290083229480594</td>\n",
       "      <td>2022-07-31</td>\n",
       "      <td>407130766</td>\n",
       "      <td>Addison</td>\n",
       "      <td>NaN</td>\n",
       "    </tr>\n",
       "    <tr>\n",
       "      <th>535778</th>\n",
       "      <td>598489759351216400</td>\n",
       "      <td>683343309732917421</td>\n",
       "      <td>2022-07-31</td>\n",
       "      <td>421250044</td>\n",
       "      <td>Shelby</td>\n",
       "      <td>NaN</td>\n",
       "    </tr>\n",
       "    <tr>\n",
       "      <th>538013</th>\n",
       "      <td>621700965651033453</td>\n",
       "      <td>689151138520250306</td>\n",
       "      <td>2022-08-08</td>\n",
       "      <td>342229632</td>\n",
       "      <td>Jade</td>\n",
       "      <td>NaN</td>\n",
       "    </tr>\n",
       "  </tbody>\n",
       "</table>\n",
       "<p>201 rows × 6 columns</p>\n",
       "</div>"
      ],
      "text/plain": [
       "                listing_id                  id       date  reviewer_id  \\\n",
       "936                6276671           741973821 2021-03-24    344950784   \n",
       "1021               8208036           173588705 2017-07-23    110869532   \n",
       "1845              10747246           262378718 2018-05-08     17239158   \n",
       "3943              13884573           768146925 2021-06-08     22306297   \n",
       "4539              15706425           731712909 2021-02-15     57774661   \n",
       "...                    ...                 ...        ...          ...   \n",
       "531353  559383276976021385  703642146679840059 2022-08-28    349777746   \n",
       "533615  590653850968352802  689124790736796620 2022-08-08    423756434   \n",
       "535343  606740002544154300  683290083229480594 2022-07-31    407130766   \n",
       "535778  598489759351216400  683343309732917421 2022-07-31    421250044   \n",
       "538013  621700965651033453  689151138520250306 2022-08-08    342229632   \n",
       "\n",
       "       reviewer_name comments  \n",
       "936          Gregory      NaN  \n",
       "1021          Damian      NaN  \n",
       "1845          Andrew      NaN  \n",
       "3943             Joe      NaN  \n",
       "4539          George      NaN  \n",
       "...              ...      ...  \n",
       "531353    Athanasios      NaN  \n",
       "533615       Melissa      NaN  \n",
       "535343       Addison      NaN  \n",
       "535778        Shelby      NaN  \n",
       "538013          Jade      NaN  \n",
       "\n",
       "[201 rows x 6 columns]"
      ]
     },
     "execution_count": 9,
     "metadata": {},
     "output_type": "execute_result"
    }
   ],
   "source": [
    "# How many records are there where there is null comment\n",
    "df_reviews[df_reviews['comments'].isnull()]"
   ]
  },
  {
   "cell_type": "code",
   "execution_count": 10,
   "metadata": {},
   "outputs": [],
   "source": [
    "df_reviews_1 = pd.read_csv('data/2021-12-17/reviews1.csv', parse_dates=['date'])\n",
    "df_reviews_2 = pd.read_csv('data/2022-03-20/reviews2.csv' , parse_dates=['date'])\n",
    "df_reviews_3 = pd.read_csv('data/2022-06-13/reviews3.csv', parse_dates=['date'])\n",
    "df_reviews_4 = pd.read_csv('data/2022-09-15/reviews4.csv', parse_dates=['date'])"
   ]
  },
  {
   "cell_type": "code",
   "execution_count": 11,
   "metadata": {},
   "outputs": [
    {
     "name": "stdout",
     "output_type": "stream",
     "text": [
      "       listing_id         id       date  reviewer_id reviewer_name comments\n",
      "49809     6276671  741973821 2021-03-24    344950784       Gregory      NaN\n",
      "Empty DataFrame\n",
      "Columns: [listing_id, id, date, reviewer_id, reviewer_name, comments]\n",
      "Index: []\n",
      "Empty DataFrame\n",
      "Columns: [listing_id, id, date, reviewer_id, reviewer_name, comments]\n",
      "Index: []\n",
      "Empty DataFrame\n",
      "Columns: [listing_id, id, date, reviewer_id, reviewer_name, comments]\n",
      "Index: []\n"
     ]
    }
   ],
   "source": [
    "print(df_reviews_1[df_reviews_1['reviewer_id'] == 344950784])\n",
    "print(df_reviews_2[df_reviews_2['reviewer_id'] == 344950784])\n",
    "print(df_reviews_3[df_reviews_3['reviewer_id'] == 344950784])\n",
    "print(df_reviews_4[df_reviews_4['reviewer_id'] == 344950784])\n"
   ]
  },
  {
   "cell_type": "code",
   "execution_count": 12,
   "metadata": {},
   "outputs": [
    {
     "data": {
      "text/html": [
       "<div>\n",
       "<style scoped>\n",
       "    .dataframe tbody tr th:only-of-type {\n",
       "        vertical-align: middle;\n",
       "    }\n",
       "\n",
       "    .dataframe tbody tr th {\n",
       "        vertical-align: top;\n",
       "    }\n",
       "\n",
       "    .dataframe thead th {\n",
       "        text-align: right;\n",
       "    }\n",
       "</style>\n",
       "<table border=\"1\" class=\"dataframe\">\n",
       "  <thead>\n",
       "    <tr style=\"text-align: right;\">\n",
       "      <th></th>\n",
       "      <th>listing_id</th>\n",
       "      <th>id</th>\n",
       "      <th>date</th>\n",
       "      <th>reviewer_id</th>\n",
       "      <th>reviewer_name</th>\n",
       "      <th>comments</th>\n",
       "    </tr>\n",
       "  </thead>\n",
       "  <tbody>\n",
       "    <tr>\n",
       "      <th>69490</th>\n",
       "      <td>8208036</td>\n",
       "      <td>173588705</td>\n",
       "      <td>2017-07-23</td>\n",
       "      <td>110869532</td>\n",
       "      <td>Damian</td>\n",
       "      <td>NaN</td>\n",
       "    </tr>\n",
       "    <tr>\n",
       "      <th>69509</th>\n",
       "      <td>8208036</td>\n",
       "      <td>235428746</td>\n",
       "      <td>2018-02-16</td>\n",
       "      <td>110869532</td>\n",
       "      <td>Damian</td>\n",
       "      <td>Great location next to Vanderbilt, Belmont, an...</td>\n",
       "    </tr>\n",
       "  </tbody>\n",
       "</table>\n",
       "</div>"
      ],
      "text/plain": [
       "       listing_id         id       date  reviewer_id reviewer_name  \\\n",
       "69490     8208036  173588705 2017-07-23    110869532        Damian   \n",
       "69509     8208036  235428746 2018-02-16    110869532        Damian   \n",
       "\n",
       "                                                comments  \n",
       "69490                                                NaN  \n",
       "69509  Great location next to Vanderbilt, Belmont, an...  "
      ]
     },
     "execution_count": 12,
     "metadata": {},
     "output_type": "execute_result"
    }
   ],
   "source": [
    "df_reviews_1[(df_reviews_1['reviewer_id'] == 110869532) & (df_reviews_1['listing_id'] ==8208036)]\n",
    "# print(df_reviews_2[df_reviews_2['reviewer_id'] == 110869532 & (df_reviews_2['listing_id'] ==8208036)])\n",
    "# print(df_reviews_3[df_reviews_3['reviewer_id'] == 110869532 & (df_reviews_3['listing_id'] ==8208036)])\n",
    "# print(df_reviews_4[df_reviews_4['reviewer_id'] == 110869532 & (df_reviews_4['listing_id'] ==8208036)])\n"
   ]
  },
  {
   "cell_type": "code",
   "execution_count": 13,
   "metadata": {},
   "outputs": [
    {
     "name": "stdout",
     "output_type": "stream",
     "text": [
      "The dataframe shape after dropping comments null values : (548941, 6)\n"
     ]
    }
   ],
   "source": [
    "# I will remove those rows from the dataframe that has null comments\n",
    "df_reviews.dropna(subset = ['comments'], inplace = True)\n",
    "print(f'The dataframe shape after dropping comments null values : {df_reviews.shape}')"
   ]
  },
  {
   "cell_type": "code",
   "execution_count": 19,
   "metadata": {},
   "outputs": [],
   "source": [
    "# https://medium.com/@lukei_3514/dealing-with-contractions-in-nlp-d6174300876b\n",
    "# Pycontractions model\n",
    "cont = Contractions('GoogleNews-vectors-negative300.bin')\n",
    "cont.load_models()"
   ]
  },
  {
   "cell_type": "code",
   "execution_count": 22,
   "metadata": {},
   "outputs": [],
   "source": [
    "# Creating the Function to carry out the pre-processing of the text\n",
    "def clean(text):\n",
    "    # Convert to lowercase\n",
    "    text = text.lower()\n",
    "\n",
    "    # Remove line breaks\n",
    "    text = text.replace('<br/>', '')\n",
    "\n",
    "    # Replace emoji\n",
    "    text = replace_emoji(text, '')\n",
    "\n",
    "    # Fix contractions\n",
    "    text = list(cont.expand_texts([text], precise=True))[0]\n",
    "\n",
    "    # Remove punctuations\n",
    "    text = \"\".join([i for i in text if i not in string.punctuation])\n",
    "\n",
    "    # Lemmatize\n",
    "    text = ' '.join([lemma(word) for word in text.split()])\n",
    "\n",
    "    return text"
   ]
  },
  {
   "cell_type": "code",
   "execution_count": 26,
   "metadata": {},
   "outputs": [],
   "source": [
    "# Apply the pre-processing function to the comments\n",
    "df_reviews['clean_comments'] = df_reviews['comments'].apply(clean)\n",
    "\n",
    "# Write to CSV to recover later --> this will have the clean comments\n",
    "df_reviews.to_csv('comments.csv', index=False)"
   ]
  },
  {
   "cell_type": "code",
   "execution_count": 28,
   "metadata": {},
   "outputs": [],
   "source": [
    "# Before looping through the dataframe --> df_reviews convert it into dictionary format to speed the looping process\n",
    "df_dict = df_reviews.to_dict(orient='records')\n",
    "# Using KeyBERT algorithm to extract keyphrases\n",
    "kw_model = KeyBERT()\n",
    "# Create main list containing list of keyphrases from all the comments\n",
    "keyphrases = []\n",
    "# This will be used to create the final dataframe\n",
    "full_data_list = []\n",
    "for row in df_dict: \n",
    "    # Retrieving key phrases for each review            \n",
    "    k = kw_model.extract_keywords(row['clean_comments'],keyphrase_ngram_range=(1,2),stop_words='english') \n",
    "    keyphrases += list(map(lambda a : a[0], k)) \n",
    "    # Add all the columns of the reviews dataframe and add the keyphrases column to it\n",
    "    full_data_list.append(list(row.values()) + [json.dumps(k)])   \n",
    "\n",
    "df_reviews_keyphrases_data = pd.DataFrame(data=full_data_list , columns = list(df_reviews.columns) + ['keyphrases'])\n",
    "df_reviews_keyphrases_data.to_csv('comments_with_keyphrases', index=False)"
   ]
  }
 ],
 "metadata": {
  "kernelspec": {
   "display_name": "Python 3.10.4 ('venv': venv)",
   "language": "python",
   "name": "python3"
  },
  "language_info": {
   "codemirror_mode": {
    "name": "ipython",
    "version": 3
   },
   "file_extension": ".py",
   "mimetype": "text/x-python",
   "name": "python",
   "nbconvert_exporter": "python",
   "pygments_lexer": "ipython3",
   "version": "3.10.4"
  },
  "orig_nbformat": 4,
  "vscode": {
   "interpreter": {
    "hash": "07de844f12b7ce505123c8a0011b27c4c32b306011201dd41064d4acde3c4bc3"
   }
  }
 },
 "nbformat": 4,
 "nbformat_minor": 2
}
